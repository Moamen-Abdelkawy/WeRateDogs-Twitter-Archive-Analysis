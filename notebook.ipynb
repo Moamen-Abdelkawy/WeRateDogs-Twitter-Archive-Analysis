{
 "cells": [
  {
   "cell_type": "markdown",
   "id": "8c8c30e9-248d-416b-aff8-289215ffa21d",
   "metadata": {
    "id": "GNIwe5N7s0e_"
   },
   "source": [
    "# WeRateDogs Twitter Archive Analysis\n",
    "<img src=\"./img/header.jpeg\" alt=\"header\" style=\"display:block; margin:auto;\">\n",
    "\n",
    "Photo by [WeRateDogs®](https://twitter.com/dog_rates?s=20)"
   ]
  },
  {
   "cell_type": "code",
   "execution_count": 1,
   "id": "042f1bf0-a549-4ec7-994c-474ac1074b4c",
   "metadata": {
    "collapsed": false,
    "executionTime": 1353,
    "jupyter": {
     "outputs_hidden": false,
     "source_hidden": false
    },
    "lastSuccessfullyExecutedCode": "# Importing modules\nimport numpy as np\nimport pandas as pd\nimport tweepy\nimport json\nfrom scipy import stats\nimport collections\nimport matplotlib.pyplot as plt\nimport matplotlib.patches as mpatches\nfrom matplotlib import rcParams\nimport seaborn as sns\nimport requests\nfrom IPython.display import display\nimport os\nimport glob\nimport inspect\n\n# magic commands\n%matplotlib inline"
   },
   "outputs": [],
   "source": [
    "# Importing modules\n",
    "import numpy as np\n",
    "import pandas as pd\n",
    "import tweepy\n",
    "import json\n",
    "from scipy import stats\n",
    "import collections\n",
    "import matplotlib.pyplot as plt\n",
    "import matplotlib.patches as mpatches\n",
    "from matplotlib import rcParams\n",
    "import seaborn as sns\n",
    "import requests\n",
    "from IPython.display import display\n",
    "import os\n",
    "import glob\n",
    "import inspect\n",
    "\n",
    "# magic commands\n",
    "%matplotlib inline"
   ]
  },
  {
   "cell_type": "markdown",
   "id": "e9b0e6dd-7b35-4cff-841f-9e2950a1a4ae",
   "metadata": {},
   "source": [
    "## 1. Introduction\n",
    "\n",
    "[WeRateDogs](https://en.wikipedia.org/wiki/WeRateDogs) is a Twitter account that rates people's dogs with a humorous comment about the dog. As this one here:\n",
    "\n",
    "<img src=\"./img/dog.png\" alt=\"Funny tweet\" width=\"400\" height=\"400\" style=\"display:block; margin:auto;\"> \n",
    "\n",
    "This analysis explores a dataset containing WeRateDogs's Twitter archive covering the period from November 2015 to August 2017."
   ]
  },
  {
   "cell_type": "markdown",
   "id": "206a69b1-8d58-40c6-aaa7-864f3603ac6c",
   "metadata": {
    "id": "lDYDkH-Zs7Nn"
   },
   "source": [
    "## 2. Data Gathering"
   ]
  },
  {
   "cell_type": "markdown",
   "id": "9d853bfa-f1d8-4842-aa92-a44370f5b66a",
   "metadata": {
    "id": "LbN7z7rcuqpO"
   },
   "source": [
    "### **2.1.** Problem Statement\n",
    "\n",
    "The report aims to:\n",
    "\n",
    "1. Describe time trends of WeRateDogs® Twitter account activity.\n",
    "2. Explore the effect of rating on likes and retweets.\n",
    "3. Determine the most popular dog breeds."
   ]
  },
  {
   "cell_type": "markdown",
   "id": "e5324d07-7378-4b37-a5c6-153f0a2d6c8a",
   "metadata": {
    "id": "8AQfBAdUypMm"
   },
   "source": [
    "### **2.2.** Datasets\n",
    "\n",
    "Data is spread between three sources:\n",
    "\n",
    "1. Twitter archive data that WeRateDogs downloaded and sent to the Udacity team, which parsed the data and stored it in `twitter_archive_enhanced.csv` file. This file was downloaded manually from [here](https://d17h27t6h515a5.cloudfront.net/topher/2017/August/59a4e958_twitter-archive-enhanced/twitter-archive-enhanced.csv).\n",
    "2. The dogs' breed predictions were based on the tweet's image(s), which was performed by Udacity team using a neural network, and was stored in `image_predictions.tsv` file. This file will be downloaded using [Requests](https://pypi.org/project/requests/) library and this [URL](https://d17h27t6h515a5.cloudfront.net/topher/2017/August/599fd2ad_image-predictions/image-predictions.tsv).\n",
    "3. Additional data (retweet count - reply count - like count - quote count) will be gathered from Twitter's API and stored in `tweet_json.txt` file."
   ]
  },
  {
   "cell_type": "markdown",
   "id": "0f02c704-479a-4033-a5c6-f7b62ece5cf3",
   "metadata": {
    "id": "7e6gS0wL1KTu"
   },
   "source": [
    "#### **Dataset 1 - WeRateDogs® Twitter Archive Data**\n",
    "\n",
    "Type: CSV File\n",
    "\n",
    "Method: Manual download from this [link](https://d17h27t6h515a5.cloudfront.net/topher/2017/August/59a4e958_twitter-archive-enhanced/twitter-archive-enhanced.csv)\n",
    "\n",
    "Dataset variables:\n",
    "- tweet_id\n",
    "- in_reply_to_status_id\n",
    "- in_reply_to_user_id\n",
    "- timestamp\n",
    "- source\n",
    "- text\n",
    "- retweeted_status_id\n",
    "- retweeted_status_user_id\n",
    "- retweeted_status_timestamp\n",
    "- expanded_urls\n",
    "- rating_numerator\n",
    "- rating_denominator\n",
    "- name\n",
    "- doggo\n",
    "- floofer\n",
    "- pupper\n",
    "- puppo\n",
    "\n",
    "In this dataset, `tweet_id` is the key column to perform joins, `timestamp` is the primary column to explore timetrends in the account activity, and `rating_numerator` is the main explanatory variable that affects number of likes and retweets. \n",
    "\n",
    "Since `rating_denominator` is always 10 in WeRateDogs rating system, it doesn't provide any usefull information.\n",
    "\n",
    "The last four variables represent dog stages in WeRateDogs rating system."
   ]
  },
  {
   "cell_type": "code",
   "execution_count": 2,
   "id": "57283381-c22d-407b-be01-b6cf8e39d0c7",
   "metadata": {
    "executionTime": 0,
    "id": "Su8E0uLuYkHU",
    "lastSuccessfullyExecutedCode": "# Load the 'twitter-archive-enhanced.csv' into a Pandas DataFrame\narchive_data = pd.read_csv('datasets/twitter-archive-enhanced.csv')"
   },
   "outputs": [],
   "source": [
    "# Load the 'twitter-archive-enhanced.csv' into a Pandas DataFrame\n",
    "archive_data = pd.read_csv('./datasets/twitter-archive-enhanced.csv')"
   ]
  },
  {
   "cell_type": "markdown",
   "id": "a32c0a5e-cd67-4f7a-bb20-0504654edc2c",
   "metadata": {
    "id": "hoUjq1tPzz7P"
   },
   "source": [
    "#### **Dataset 2 - Image Predictions File**\n",
    "\n",
    "Type: TSV File\n",
    "\n",
    "Method: Programmatic Download using Requests Library\n",
    "\n",
    "Dataset variables:\n",
    "\n",
    "- tweet_id\n",
    "- jpg_url\n",
    "- img_num\n",
    "- p1\n",
    "- p1_conf\n",
    "- p1_dog\n",
    "- p2\n",
    "- p2_conf\n",
    "- p2_dog\n",
    "- p3\n",
    "- p3_conf\n",
    "- p3_dog\n",
    "\n",
    "Udacity team ran every image in the WeRateDogs Twitter archive through a neural network that can classify breeds of dogs. The dataset includes the predictions of three algorithms `p1`,`p2`,`p3`; thier confidence; and whether whether or not the prediction is a breed of dog. \n",
    "\n",
    "I mainly care about `p1` in this dataset, since this is the most confident prediction. `tweet_id` is the key column to perform joins."
   ]
  },
  {
   "cell_type": "code",
   "execution_count": 3,
   "id": "a1a1a0f7-7952-4f26-bb98-ced052508d1e",
   "metadata": {
    "executionTime": 1452,
    "lastSuccessfullyExecutedCode": "# Use requests library to download 'image-predictions.tsv'\nr = requests.get('https://d17h27t6h515a5.cloudfront.net/topher/2017/August/599fd2ad_image-predictions/image-predictions.tsv')\nwith open('datasets/image-predictions.tsv', 'wb') as f:\n    f.write(r.content)\n# Load the 'image-predictions.tsv' into a Pandas DataFrame    \nimg_pred = pd.read_csv('datasets/image-predictions.tsv', sep='\\t')"
   },
   "outputs": [],
   "source": [
    "# Use requests library to download 'image-predictions.tsv'\n",
    "r = requests.get('https://d17h27t6h515a5.cloudfront.net/topher/2017/August/599fd2ad_image-predictions/image-predictions.tsv')\n",
    "with open('./datasets/image-predictions.tsv', 'wb') as f:\n",
    "    f.write(r.content)\n",
    "# Load the 'image-predictions.tsv' into a Pandas DataFrame    \n",
    "img_pred = pd.read_csv('./datasets/image-predictions.tsv', sep='\\t')"
   ]
  },
  {
   "cell_type": "markdown",
   "id": "46a9f124-d350-4f3d-99f0-34baabf63708",
   "metadata": {},
   "source": [
    "#### **Dataset 3 - Additional Data via the Twitter API**\n",
    "\n",
    "Type: TXT File\n",
    "\n",
    "Method: Query Twitter API\n",
    "\n",
    "Dataset variables:\n",
    "\n",
    "- tweet_id\n",
    "- timestamp\n",
    "- text\n",
    "- retweet_count\n",
    "- reply_count\n",
    "- like_count\n",
    "- quote_count\n",
    "\n",
    "This third dataset contains additional data for every tweet in the first dataset (WeRateDogs® Twitter Archive Data). `tweet_id` is the key column to perform joins, `timestamp` is the primary column to explore timetrends in the account activity, `like_count` and `retweet_count` are the response variables for the second research question of this report. "
   ]
  },
  {
   "cell_type": "code",
   "execution_count": 4,
   "id": "d2144d2f-04fc-45ef-aa09-34b53705e9ac",
   "metadata": {
    "executionTime": 0,
    "id": "6zT0QxRyYmm7",
    "lastSuccessfullyExecutedCode": "# Loading keys from 'keys.py'\nfrom keys import *\n# Using OAuth 1.0a User Context to access Twitter API v2\nclient = tweepy.Client( bearer_token=bearer_token, \n                        consumer_key=consumer_key, \n                        consumer_secret=consumer_secret, \n                        access_token=access_token, \n                        access_token_secret=access_token_secret, \n                        return_type = requests.Response,\n                        wait_on_rate_limit=True)"
   },
   "outputs": [],
   "source": [
    "# Loading keys from 'keys.py'\n",
    "from keys import *\n",
    "# Using OAuth 1.0a User Context to access Twitter API v2\n",
    "client = tweepy.Client( bearer_token=bearer_token, \n",
    "                        consumer_key=consumer_key, \n",
    "                        consumer_secret=consumer_secret, \n",
    "                        access_token=access_token, \n",
    "                        access_token_secret=access_token_secret, \n",
    "                        return_type = requests.Response,\n",
    "                        wait_on_rate_limit=True)"
   ]
  },
  {
   "cell_type": "code",
   "execution_count": 5,
   "id": "6b0e0d6f-69bb-47f6-91b9-3b10e0ebf824",
   "metadata": {
    "executionTime": 214,
    "lastSuccessfullyExecutedCode": "# Due to twitter API policy, this cell takes very long time to run\n# Please remove the following magic command in order to run this cell\n%%script false --no-raise-error\n\n# Query Twitter API v2 for each tweet's JSON data, and save to 'tweet_json.txt'\nwith open('datasets/tweet_json.txt', 'w') as f:\n    for _id in archive_data.tweet_id.values:\n        try:\n            tweet = client.get_tweet(_id, tweet_fields=[\"created_at\", \"public_metrics\"]).json()\n            f.write(json.dumps(tweet['data']))\n            f.write('\\n')\n        except:\n            continue"
   },
   "outputs": [
    {
     "data": {
      "text/plain": [
       "' \\n# Due to Twitter\\'s API Rate Limit, this cell takes VERY long time to run\\n# Please remove the block comment in order to run this cell\\n\\n# Query Twitter API v2 for each tweet\\'s JSON data, and save to \\'tweet_json.txt\\'\\nwith open(\\'./datasets/tweet_json.txt\\', \\'w\\') as f:\\n    for _id in archive_data.tweet_id.values:\\n        try:\\n            tweet = client.get_tweet(_id, tweet_fields=[\"created_at\", \"public_metrics\"]).json()\\n            f.write(json.dumps(tweet[\\'data\\']))\\n            f.write(\\'\\n\\')\\n        except Exception:\\n            continue \\n'"
      ]
     },
     "execution_count": 5,
     "metadata": {},
     "output_type": "execute_result"
    }
   ],
   "source": [
    "\"\"\" \n",
    "# Due to Twitter's API Rate Limit, this cell takes VERY long time to run\n",
    "# Please remove the block comment in order to run this cell\n",
    "\n",
    "# Query Twitter API v2 for each tweet's JSON data, and save to 'tweet_json.txt'\n",
    "with open('./datasets/tweet_json.txt', 'w') as f:\n",
    "    for _id in archive_data.tweet_id.values:\n",
    "        try:\n",
    "            tweet = client.get_tweet(_id, tweet_fields=[\"created_at\", \"public_metrics\"]).json()\n",
    "            f.write(json.dumps(tweet['data']))\n",
    "            f.write('\\n')\n",
    "        except Exception:\n",
    "            continue \n",
    "\"\"\""
   ]
  },
  {
   "cell_type": "code",
   "execution_count": 6,
   "id": "97bde2e9-3af6-47f4-b983-35dbe655e81c",
   "metadata": {
    "executionCancelledAt": 1679698614419
   },
   "outputs": [],
   "source": [
    "# Reading 'tweet_json.txt' line by line and append it to 'api_data_list' \n",
    "api_data_list = []\n",
    "for line in open('./datasets/tweet_json.txt', 'r'):\n",
    "    tweet = json.loads(line)\n",
    "    api_data_list.append(\n",
    "                        {'tweet_id': tweet['id'],\n",
    "                        'timestamp': tweet['created_at'],\n",
    "                        'text': tweet['text'],\n",
    "                        'retweet_count': tweet['public_metrics']['retweet_count'],\n",
    "                        'reply_count': tweet['public_metrics']['reply_count'],\n",
    "                        'like_count': tweet['public_metrics']['like_count'],\n",
    "                        'quote_count': tweet['public_metrics']['quote_count']}\n",
    "                        )\n",
    "    \n",
    "# Create a new DataFrame for API data\n",
    "columns = ['tweet_id', 'timestamp', 'text', 'retweet_count', 'reply_count', 'like_count', 'quote_count']\n",
    "api_data = pd.DataFrame(api_data_list, columns = columns)"
   ]
  },
  {
   "cell_type": "markdown",
   "id": "99a6b8fe-0667-45f6-a8e2-8db899d5ed3a",
   "metadata": {
    "id": "QwSWIVmotLgV"
   },
   "source": [
    "## 2. Assess data\n",
    "\n",
    "### Visual Assessment\n",
    "\n",
    "> Data is displayed in both the Notebook and JupyterLab text editor for visual assessment."
   ]
  },
  {
   "cell_type": "code",
   "execution_count": 7,
   "id": "dd7884d1",
   "metadata": {},
   "outputs": [
    {
     "data": {
      "text/html": [
       "<div>\n",
       "<style scoped>\n",
       "    .dataframe tbody tr th:only-of-type {\n",
       "        vertical-align: middle;\n",
       "    }\n",
       "\n",
       "    .dataframe tbody tr th {\n",
       "        vertical-align: top;\n",
       "    }\n",
       "\n",
       "    .dataframe thead th {\n",
       "        text-align: right;\n",
       "    }\n",
       "</style>\n",
       "<table border=\"1\" class=\"dataframe\">\n",
       "  <thead>\n",
       "    <tr style=\"text-align: right;\">\n",
       "      <th></th>\n",
       "      <th>tweet_id</th>\n",
       "      <th>in_reply_to_status_id</th>\n",
       "      <th>in_reply_to_user_id</th>\n",
       "      <th>timestamp</th>\n",
       "      <th>source</th>\n",
       "      <th>text</th>\n",
       "      <th>retweeted_status_id</th>\n",
       "      <th>retweeted_status_user_id</th>\n",
       "      <th>retweeted_status_timestamp</th>\n",
       "      <th>expanded_urls</th>\n",
       "      <th>rating_numerator</th>\n",
       "      <th>rating_denominator</th>\n",
       "      <th>name</th>\n",
       "      <th>doggo</th>\n",
       "      <th>floofer</th>\n",
       "      <th>pupper</th>\n",
       "      <th>puppo</th>\n",
       "    </tr>\n",
       "  </thead>\n",
       "  <tbody>\n",
       "    <tr>\n",
       "      <th>0</th>\n",
       "      <td>892420643555336193</td>\n",
       "      <td>NaN</td>\n",
       "      <td>NaN</td>\n",
       "      <td>2017-08-01 16:23:56 +0000</td>\n",
       "      <td>&lt;a href=\"http://twitter.com/download/iphone\" r...</td>\n",
       "      <td>This is Phineas. He's a mystical boy. Only eve...</td>\n",
       "      <td>NaN</td>\n",
       "      <td>NaN</td>\n",
       "      <td>NaN</td>\n",
       "      <td>https://twitter.com/dog_rates/status/892420643...</td>\n",
       "      <td>13</td>\n",
       "      <td>10</td>\n",
       "      <td>Phineas</td>\n",
       "      <td>None</td>\n",
       "      <td>None</td>\n",
       "      <td>None</td>\n",
       "      <td>None</td>\n",
       "    </tr>\n",
       "    <tr>\n",
       "      <th>1</th>\n",
       "      <td>892177421306343426</td>\n",
       "      <td>NaN</td>\n",
       "      <td>NaN</td>\n",
       "      <td>2017-08-01 00:17:27 +0000</td>\n",
       "      <td>&lt;a href=\"http://twitter.com/download/iphone\" r...</td>\n",
       "      <td>This is Tilly. She's just checking pup on you....</td>\n",
       "      <td>NaN</td>\n",
       "      <td>NaN</td>\n",
       "      <td>NaN</td>\n",
       "      <td>https://twitter.com/dog_rates/status/892177421...</td>\n",
       "      <td>13</td>\n",
       "      <td>10</td>\n",
       "      <td>Tilly</td>\n",
       "      <td>None</td>\n",
       "      <td>None</td>\n",
       "      <td>None</td>\n",
       "      <td>None</td>\n",
       "    </tr>\n",
       "    <tr>\n",
       "      <th>2</th>\n",
       "      <td>891815181378084864</td>\n",
       "      <td>NaN</td>\n",
       "      <td>NaN</td>\n",
       "      <td>2017-07-31 00:18:03 +0000</td>\n",
       "      <td>&lt;a href=\"http://twitter.com/download/iphone\" r...</td>\n",
       "      <td>This is Archie. He is a rare Norwegian Pouncin...</td>\n",
       "      <td>NaN</td>\n",
       "      <td>NaN</td>\n",
       "      <td>NaN</td>\n",
       "      <td>https://twitter.com/dog_rates/status/891815181...</td>\n",
       "      <td>12</td>\n",
       "      <td>10</td>\n",
       "      <td>Archie</td>\n",
       "      <td>None</td>\n",
       "      <td>None</td>\n",
       "      <td>None</td>\n",
       "      <td>None</td>\n",
       "    </tr>\n",
       "    <tr>\n",
       "      <th>3</th>\n",
       "      <td>891689557279858688</td>\n",
       "      <td>NaN</td>\n",
       "      <td>NaN</td>\n",
       "      <td>2017-07-30 15:58:51 +0000</td>\n",
       "      <td>&lt;a href=\"http://twitter.com/download/iphone\" r...</td>\n",
       "      <td>This is Darla. She commenced a snooze mid meal...</td>\n",
       "      <td>NaN</td>\n",
       "      <td>NaN</td>\n",
       "      <td>NaN</td>\n",
       "      <td>https://twitter.com/dog_rates/status/891689557...</td>\n",
       "      <td>13</td>\n",
       "      <td>10</td>\n",
       "      <td>Darla</td>\n",
       "      <td>None</td>\n",
       "      <td>None</td>\n",
       "      <td>None</td>\n",
       "      <td>None</td>\n",
       "    </tr>\n",
       "    <tr>\n",
       "      <th>4</th>\n",
       "      <td>891327558926688256</td>\n",
       "      <td>NaN</td>\n",
       "      <td>NaN</td>\n",
       "      <td>2017-07-29 16:00:24 +0000</td>\n",
       "      <td>&lt;a href=\"http://twitter.com/download/iphone\" r...</td>\n",
       "      <td>This is Franklin. He would like you to stop ca...</td>\n",
       "      <td>NaN</td>\n",
       "      <td>NaN</td>\n",
       "      <td>NaN</td>\n",
       "      <td>https://twitter.com/dog_rates/status/891327558...</td>\n",
       "      <td>12</td>\n",
       "      <td>10</td>\n",
       "      <td>Franklin</td>\n",
       "      <td>None</td>\n",
       "      <td>None</td>\n",
       "      <td>None</td>\n",
       "      <td>None</td>\n",
       "    </tr>\n",
       "    <tr>\n",
       "      <th>...</th>\n",
       "      <td>...</td>\n",
       "      <td>...</td>\n",
       "      <td>...</td>\n",
       "      <td>...</td>\n",
       "      <td>...</td>\n",
       "      <td>...</td>\n",
       "      <td>...</td>\n",
       "      <td>...</td>\n",
       "      <td>...</td>\n",
       "      <td>...</td>\n",
       "      <td>...</td>\n",
       "      <td>...</td>\n",
       "      <td>...</td>\n",
       "      <td>...</td>\n",
       "      <td>...</td>\n",
       "      <td>...</td>\n",
       "      <td>...</td>\n",
       "    </tr>\n",
       "    <tr>\n",
       "      <th>2351</th>\n",
       "      <td>666049248165822465</td>\n",
       "      <td>NaN</td>\n",
       "      <td>NaN</td>\n",
       "      <td>2015-11-16 00:24:50 +0000</td>\n",
       "      <td>&lt;a href=\"http://twitter.com/download/iphone\" r...</td>\n",
       "      <td>Here we have a 1949 1st generation vulpix. Enj...</td>\n",
       "      <td>NaN</td>\n",
       "      <td>NaN</td>\n",
       "      <td>NaN</td>\n",
       "      <td>https://twitter.com/dog_rates/status/666049248...</td>\n",
       "      <td>5</td>\n",
       "      <td>10</td>\n",
       "      <td>None</td>\n",
       "      <td>None</td>\n",
       "      <td>None</td>\n",
       "      <td>None</td>\n",
       "      <td>None</td>\n",
       "    </tr>\n",
       "    <tr>\n",
       "      <th>2352</th>\n",
       "      <td>666044226329800704</td>\n",
       "      <td>NaN</td>\n",
       "      <td>NaN</td>\n",
       "      <td>2015-11-16 00:04:52 +0000</td>\n",
       "      <td>&lt;a href=\"http://twitter.com/download/iphone\" r...</td>\n",
       "      <td>This is a purebred Piers Morgan. Loves to Netf...</td>\n",
       "      <td>NaN</td>\n",
       "      <td>NaN</td>\n",
       "      <td>NaN</td>\n",
       "      <td>https://twitter.com/dog_rates/status/666044226...</td>\n",
       "      <td>6</td>\n",
       "      <td>10</td>\n",
       "      <td>a</td>\n",
       "      <td>None</td>\n",
       "      <td>None</td>\n",
       "      <td>None</td>\n",
       "      <td>None</td>\n",
       "    </tr>\n",
       "    <tr>\n",
       "      <th>2353</th>\n",
       "      <td>666033412701032449</td>\n",
       "      <td>NaN</td>\n",
       "      <td>NaN</td>\n",
       "      <td>2015-11-15 23:21:54 +0000</td>\n",
       "      <td>&lt;a href=\"http://twitter.com/download/iphone\" r...</td>\n",
       "      <td>Here is a very happy pup. Big fan of well-main...</td>\n",
       "      <td>NaN</td>\n",
       "      <td>NaN</td>\n",
       "      <td>NaN</td>\n",
       "      <td>https://twitter.com/dog_rates/status/666033412...</td>\n",
       "      <td>9</td>\n",
       "      <td>10</td>\n",
       "      <td>a</td>\n",
       "      <td>None</td>\n",
       "      <td>None</td>\n",
       "      <td>None</td>\n",
       "      <td>None</td>\n",
       "    </tr>\n",
       "    <tr>\n",
       "      <th>2354</th>\n",
       "      <td>666029285002620928</td>\n",
       "      <td>NaN</td>\n",
       "      <td>NaN</td>\n",
       "      <td>2015-11-15 23:05:30 +0000</td>\n",
       "      <td>&lt;a href=\"http://twitter.com/download/iphone\" r...</td>\n",
       "      <td>This is a western brown Mitsubishi terrier. Up...</td>\n",
       "      <td>NaN</td>\n",
       "      <td>NaN</td>\n",
       "      <td>NaN</td>\n",
       "      <td>https://twitter.com/dog_rates/status/666029285...</td>\n",
       "      <td>7</td>\n",
       "      <td>10</td>\n",
       "      <td>a</td>\n",
       "      <td>None</td>\n",
       "      <td>None</td>\n",
       "      <td>None</td>\n",
       "      <td>None</td>\n",
       "    </tr>\n",
       "    <tr>\n",
       "      <th>2355</th>\n",
       "      <td>666020888022790149</td>\n",
       "      <td>NaN</td>\n",
       "      <td>NaN</td>\n",
       "      <td>2015-11-15 22:32:08 +0000</td>\n",
       "      <td>&lt;a href=\"http://twitter.com/download/iphone\" r...</td>\n",
       "      <td>Here we have a Japanese Irish Setter. Lost eye...</td>\n",
       "      <td>NaN</td>\n",
       "      <td>NaN</td>\n",
       "      <td>NaN</td>\n",
       "      <td>https://twitter.com/dog_rates/status/666020888...</td>\n",
       "      <td>8</td>\n",
       "      <td>10</td>\n",
       "      <td>None</td>\n",
       "      <td>None</td>\n",
       "      <td>None</td>\n",
       "      <td>None</td>\n",
       "      <td>None</td>\n",
       "    </tr>\n",
       "  </tbody>\n",
       "</table>\n",
       "<p>2356 rows × 17 columns</p>\n",
       "</div>"
      ],
      "text/plain": [
       "                tweet_id  in_reply_to_status_id  in_reply_to_user_id  \\\n",
       "0     892420643555336193                    NaN                  NaN   \n",
       "1     892177421306343426                    NaN                  NaN   \n",
       "2     891815181378084864                    NaN                  NaN   \n",
       "3     891689557279858688                    NaN                  NaN   \n",
       "4     891327558926688256                    NaN                  NaN   \n",
       "...                  ...                    ...                  ...   \n",
       "2351  666049248165822465                    NaN                  NaN   \n",
       "2352  666044226329800704                    NaN                  NaN   \n",
       "2353  666033412701032449                    NaN                  NaN   \n",
       "2354  666029285002620928                    NaN                  NaN   \n",
       "2355  666020888022790149                    NaN                  NaN   \n",
       "\n",
       "                      timestamp  \\\n",
       "0     2017-08-01 16:23:56 +0000   \n",
       "1     2017-08-01 00:17:27 +0000   \n",
       "2     2017-07-31 00:18:03 +0000   \n",
       "3     2017-07-30 15:58:51 +0000   \n",
       "4     2017-07-29 16:00:24 +0000   \n",
       "...                         ...   \n",
       "2351  2015-11-16 00:24:50 +0000   \n",
       "2352  2015-11-16 00:04:52 +0000   \n",
       "2353  2015-11-15 23:21:54 +0000   \n",
       "2354  2015-11-15 23:05:30 +0000   \n",
       "2355  2015-11-15 22:32:08 +0000   \n",
       "\n",
       "                                                 source  \\\n",
       "0     <a href=\"http://twitter.com/download/iphone\" r...   \n",
       "1     <a href=\"http://twitter.com/download/iphone\" r...   \n",
       "2     <a href=\"http://twitter.com/download/iphone\" r...   \n",
       "3     <a href=\"http://twitter.com/download/iphone\" r...   \n",
       "4     <a href=\"http://twitter.com/download/iphone\" r...   \n",
       "...                                                 ...   \n",
       "2351  <a href=\"http://twitter.com/download/iphone\" r...   \n",
       "2352  <a href=\"http://twitter.com/download/iphone\" r...   \n",
       "2353  <a href=\"http://twitter.com/download/iphone\" r...   \n",
       "2354  <a href=\"http://twitter.com/download/iphone\" r...   \n",
       "2355  <a href=\"http://twitter.com/download/iphone\" r...   \n",
       "\n",
       "                                                   text  retweeted_status_id  \\\n",
       "0     This is Phineas. He's a mystical boy. Only eve...                  NaN   \n",
       "1     This is Tilly. She's just checking pup on you....                  NaN   \n",
       "2     This is Archie. He is a rare Norwegian Pouncin...                  NaN   \n",
       "3     This is Darla. She commenced a snooze mid meal...                  NaN   \n",
       "4     This is Franklin. He would like you to stop ca...                  NaN   \n",
       "...                                                 ...                  ...   \n",
       "2351  Here we have a 1949 1st generation vulpix. Enj...                  NaN   \n",
       "2352  This is a purebred Piers Morgan. Loves to Netf...                  NaN   \n",
       "2353  Here is a very happy pup. Big fan of well-main...                  NaN   \n",
       "2354  This is a western brown Mitsubishi terrier. Up...                  NaN   \n",
       "2355  Here we have a Japanese Irish Setter. Lost eye...                  NaN   \n",
       "\n",
       "      retweeted_status_user_id retweeted_status_timestamp  \\\n",
       "0                          NaN                        NaN   \n",
       "1                          NaN                        NaN   \n",
       "2                          NaN                        NaN   \n",
       "3                          NaN                        NaN   \n",
       "4                          NaN                        NaN   \n",
       "...                        ...                        ...   \n",
       "2351                       NaN                        NaN   \n",
       "2352                       NaN                        NaN   \n",
       "2353                       NaN                        NaN   \n",
       "2354                       NaN                        NaN   \n",
       "2355                       NaN                        NaN   \n",
       "\n",
       "                                          expanded_urls  rating_numerator  \\\n",
       "0     https://twitter.com/dog_rates/status/892420643...                13   \n",
       "1     https://twitter.com/dog_rates/status/892177421...                13   \n",
       "2     https://twitter.com/dog_rates/status/891815181...                12   \n",
       "3     https://twitter.com/dog_rates/status/891689557...                13   \n",
       "4     https://twitter.com/dog_rates/status/891327558...                12   \n",
       "...                                                 ...               ...   \n",
       "2351  https://twitter.com/dog_rates/status/666049248...                 5   \n",
       "2352  https://twitter.com/dog_rates/status/666044226...                 6   \n",
       "2353  https://twitter.com/dog_rates/status/666033412...                 9   \n",
       "2354  https://twitter.com/dog_rates/status/666029285...                 7   \n",
       "2355  https://twitter.com/dog_rates/status/666020888...                 8   \n",
       "\n",
       "      rating_denominator      name doggo floofer pupper puppo  \n",
       "0                     10   Phineas  None    None   None  None  \n",
       "1                     10     Tilly  None    None   None  None  \n",
       "2                     10    Archie  None    None   None  None  \n",
       "3                     10     Darla  None    None   None  None  \n",
       "4                     10  Franklin  None    None   None  None  \n",
       "...                  ...       ...   ...     ...    ...   ...  \n",
       "2351                  10      None  None    None   None  None  \n",
       "2352                  10         a  None    None   None  None  \n",
       "2353                  10         a  None    None   None  None  \n",
       "2354                  10         a  None    None   None  None  \n",
       "2355                  10      None  None    None   None  None  \n",
       "\n",
       "[2356 rows x 17 columns]"
      ]
     },
     "metadata": {},
     "output_type": "display_data"
    }
   ],
   "source": [
    "display(archive_data)"
   ]
  },
  {
   "cell_type": "code",
   "execution_count": 8,
   "id": "6b2741d7",
   "metadata": {},
   "outputs": [
    {
     "data": {
      "text/html": [
       "<div>\n",
       "<style scoped>\n",
       "    .dataframe tbody tr th:only-of-type {\n",
       "        vertical-align: middle;\n",
       "    }\n",
       "\n",
       "    .dataframe tbody tr th {\n",
       "        vertical-align: top;\n",
       "    }\n",
       "\n",
       "    .dataframe thead th {\n",
       "        text-align: right;\n",
       "    }\n",
       "</style>\n",
       "<table border=\"1\" class=\"dataframe\">\n",
       "  <thead>\n",
       "    <tr style=\"text-align: right;\">\n",
       "      <th></th>\n",
       "      <th>tweet_id</th>\n",
       "      <th>jpg_url</th>\n",
       "      <th>img_num</th>\n",
       "      <th>p1</th>\n",
       "      <th>p1_conf</th>\n",
       "      <th>p1_dog</th>\n",
       "      <th>p2</th>\n",
       "      <th>p2_conf</th>\n",
       "      <th>p2_dog</th>\n",
       "      <th>p3</th>\n",
       "      <th>p3_conf</th>\n",
       "      <th>p3_dog</th>\n",
       "    </tr>\n",
       "  </thead>\n",
       "  <tbody>\n",
       "    <tr>\n",
       "      <th>0</th>\n",
       "      <td>666020888022790149</td>\n",
       "      <td>https://pbs.twimg.com/media/CT4udn0WwAA0aMy.jpg</td>\n",
       "      <td>1</td>\n",
       "      <td>Welsh_springer_spaniel</td>\n",
       "      <td>0.465074</td>\n",
       "      <td>True</td>\n",
       "      <td>collie</td>\n",
       "      <td>0.156665</td>\n",
       "      <td>True</td>\n",
       "      <td>Shetland_sheepdog</td>\n",
       "      <td>0.061428</td>\n",
       "      <td>True</td>\n",
       "    </tr>\n",
       "    <tr>\n",
       "      <th>1</th>\n",
       "      <td>666029285002620928</td>\n",
       "      <td>https://pbs.twimg.com/media/CT42GRgUYAA5iDo.jpg</td>\n",
       "      <td>1</td>\n",
       "      <td>redbone</td>\n",
       "      <td>0.506826</td>\n",
       "      <td>True</td>\n",
       "      <td>miniature_pinscher</td>\n",
       "      <td>0.074192</td>\n",
       "      <td>True</td>\n",
       "      <td>Rhodesian_ridgeback</td>\n",
       "      <td>0.072010</td>\n",
       "      <td>True</td>\n",
       "    </tr>\n",
       "    <tr>\n",
       "      <th>2</th>\n",
       "      <td>666033412701032449</td>\n",
       "      <td>https://pbs.twimg.com/media/CT4521TWwAEvMyu.jpg</td>\n",
       "      <td>1</td>\n",
       "      <td>German_shepherd</td>\n",
       "      <td>0.596461</td>\n",
       "      <td>True</td>\n",
       "      <td>malinois</td>\n",
       "      <td>0.138584</td>\n",
       "      <td>True</td>\n",
       "      <td>bloodhound</td>\n",
       "      <td>0.116197</td>\n",
       "      <td>True</td>\n",
       "    </tr>\n",
       "    <tr>\n",
       "      <th>3</th>\n",
       "      <td>666044226329800704</td>\n",
       "      <td>https://pbs.twimg.com/media/CT5Dr8HUEAA-lEu.jpg</td>\n",
       "      <td>1</td>\n",
       "      <td>Rhodesian_ridgeback</td>\n",
       "      <td>0.408143</td>\n",
       "      <td>True</td>\n",
       "      <td>redbone</td>\n",
       "      <td>0.360687</td>\n",
       "      <td>True</td>\n",
       "      <td>miniature_pinscher</td>\n",
       "      <td>0.222752</td>\n",
       "      <td>True</td>\n",
       "    </tr>\n",
       "    <tr>\n",
       "      <th>4</th>\n",
       "      <td>666049248165822465</td>\n",
       "      <td>https://pbs.twimg.com/media/CT5IQmsXIAAKY4A.jpg</td>\n",
       "      <td>1</td>\n",
       "      <td>miniature_pinscher</td>\n",
       "      <td>0.560311</td>\n",
       "      <td>True</td>\n",
       "      <td>Rottweiler</td>\n",
       "      <td>0.243682</td>\n",
       "      <td>True</td>\n",
       "      <td>Doberman</td>\n",
       "      <td>0.154629</td>\n",
       "      <td>True</td>\n",
       "    </tr>\n",
       "    <tr>\n",
       "      <th>...</th>\n",
       "      <td>...</td>\n",
       "      <td>...</td>\n",
       "      <td>...</td>\n",
       "      <td>...</td>\n",
       "      <td>...</td>\n",
       "      <td>...</td>\n",
       "      <td>...</td>\n",
       "      <td>...</td>\n",
       "      <td>...</td>\n",
       "      <td>...</td>\n",
       "      <td>...</td>\n",
       "      <td>...</td>\n",
       "    </tr>\n",
       "    <tr>\n",
       "      <th>2070</th>\n",
       "      <td>891327558926688256</td>\n",
       "      <td>https://pbs.twimg.com/media/DF6hr6BUMAAzZgT.jpg</td>\n",
       "      <td>2</td>\n",
       "      <td>basset</td>\n",
       "      <td>0.555712</td>\n",
       "      <td>True</td>\n",
       "      <td>English_springer</td>\n",
       "      <td>0.225770</td>\n",
       "      <td>True</td>\n",
       "      <td>German_short-haired_pointer</td>\n",
       "      <td>0.175219</td>\n",
       "      <td>True</td>\n",
       "    </tr>\n",
       "    <tr>\n",
       "      <th>2071</th>\n",
       "      <td>891689557279858688</td>\n",
       "      <td>https://pbs.twimg.com/media/DF_q7IAWsAEuuN8.jpg</td>\n",
       "      <td>1</td>\n",
       "      <td>paper_towel</td>\n",
       "      <td>0.170278</td>\n",
       "      <td>False</td>\n",
       "      <td>Labrador_retriever</td>\n",
       "      <td>0.168086</td>\n",
       "      <td>True</td>\n",
       "      <td>spatula</td>\n",
       "      <td>0.040836</td>\n",
       "      <td>False</td>\n",
       "    </tr>\n",
       "    <tr>\n",
       "      <th>2072</th>\n",
       "      <td>891815181378084864</td>\n",
       "      <td>https://pbs.twimg.com/media/DGBdLU1WsAANxJ9.jpg</td>\n",
       "      <td>1</td>\n",
       "      <td>Chihuahua</td>\n",
       "      <td>0.716012</td>\n",
       "      <td>True</td>\n",
       "      <td>malamute</td>\n",
       "      <td>0.078253</td>\n",
       "      <td>True</td>\n",
       "      <td>kelpie</td>\n",
       "      <td>0.031379</td>\n",
       "      <td>True</td>\n",
       "    </tr>\n",
       "    <tr>\n",
       "      <th>2073</th>\n",
       "      <td>892177421306343426</td>\n",
       "      <td>https://pbs.twimg.com/media/DGGmoV4XsAAUL6n.jpg</td>\n",
       "      <td>1</td>\n",
       "      <td>Chihuahua</td>\n",
       "      <td>0.323581</td>\n",
       "      <td>True</td>\n",
       "      <td>Pekinese</td>\n",
       "      <td>0.090647</td>\n",
       "      <td>True</td>\n",
       "      <td>papillon</td>\n",
       "      <td>0.068957</td>\n",
       "      <td>True</td>\n",
       "    </tr>\n",
       "    <tr>\n",
       "      <th>2074</th>\n",
       "      <td>892420643555336193</td>\n",
       "      <td>https://pbs.twimg.com/media/DGKD1-bXoAAIAUK.jpg</td>\n",
       "      <td>1</td>\n",
       "      <td>orange</td>\n",
       "      <td>0.097049</td>\n",
       "      <td>False</td>\n",
       "      <td>bagel</td>\n",
       "      <td>0.085851</td>\n",
       "      <td>False</td>\n",
       "      <td>banana</td>\n",
       "      <td>0.076110</td>\n",
       "      <td>False</td>\n",
       "    </tr>\n",
       "  </tbody>\n",
       "</table>\n",
       "<p>2075 rows × 12 columns</p>\n",
       "</div>"
      ],
      "text/plain": [
       "                tweet_id                                          jpg_url  \\\n",
       "0     666020888022790149  https://pbs.twimg.com/media/CT4udn0WwAA0aMy.jpg   \n",
       "1     666029285002620928  https://pbs.twimg.com/media/CT42GRgUYAA5iDo.jpg   \n",
       "2     666033412701032449  https://pbs.twimg.com/media/CT4521TWwAEvMyu.jpg   \n",
       "3     666044226329800704  https://pbs.twimg.com/media/CT5Dr8HUEAA-lEu.jpg   \n",
       "4     666049248165822465  https://pbs.twimg.com/media/CT5IQmsXIAAKY4A.jpg   \n",
       "...                  ...                                              ...   \n",
       "2070  891327558926688256  https://pbs.twimg.com/media/DF6hr6BUMAAzZgT.jpg   \n",
       "2071  891689557279858688  https://pbs.twimg.com/media/DF_q7IAWsAEuuN8.jpg   \n",
       "2072  891815181378084864  https://pbs.twimg.com/media/DGBdLU1WsAANxJ9.jpg   \n",
       "2073  892177421306343426  https://pbs.twimg.com/media/DGGmoV4XsAAUL6n.jpg   \n",
       "2074  892420643555336193  https://pbs.twimg.com/media/DGKD1-bXoAAIAUK.jpg   \n",
       "\n",
       "      img_num                      p1   p1_conf  p1_dog                  p2  \\\n",
       "0           1  Welsh_springer_spaniel  0.465074    True              collie   \n",
       "1           1                 redbone  0.506826    True  miniature_pinscher   \n",
       "2           1         German_shepherd  0.596461    True            malinois   \n",
       "3           1     Rhodesian_ridgeback  0.408143    True             redbone   \n",
       "4           1      miniature_pinscher  0.560311    True          Rottweiler   \n",
       "...       ...                     ...       ...     ...                 ...   \n",
       "2070        2                  basset  0.555712    True    English_springer   \n",
       "2071        1             paper_towel  0.170278   False  Labrador_retriever   \n",
       "2072        1               Chihuahua  0.716012    True            malamute   \n",
       "2073        1               Chihuahua  0.323581    True            Pekinese   \n",
       "2074        1                  orange  0.097049   False               bagel   \n",
       "\n",
       "       p2_conf  p2_dog                           p3   p3_conf  p3_dog  \n",
       "0     0.156665    True            Shetland_sheepdog  0.061428    True  \n",
       "1     0.074192    True          Rhodesian_ridgeback  0.072010    True  \n",
       "2     0.138584    True                   bloodhound  0.116197    True  \n",
       "3     0.360687    True           miniature_pinscher  0.222752    True  \n",
       "4     0.243682    True                     Doberman  0.154629    True  \n",
       "...        ...     ...                          ...       ...     ...  \n",
       "2070  0.225770    True  German_short-haired_pointer  0.175219    True  \n",
       "2071  0.168086    True                      spatula  0.040836   False  \n",
       "2072  0.078253    True                       kelpie  0.031379    True  \n",
       "2073  0.090647    True                     papillon  0.068957    True  \n",
       "2074  0.085851   False                       banana  0.076110   False  \n",
       "\n",
       "[2075 rows x 12 columns]"
      ]
     },
     "metadata": {},
     "output_type": "display_data"
    }
   ],
   "source": [
    "display(img_pred)"
   ]
  },
  {
   "cell_type": "code",
   "execution_count": 9,
   "id": "e736a53d",
   "metadata": {},
   "outputs": [
    {
     "data": {
      "text/html": [
       "<div>\n",
       "<style scoped>\n",
       "    .dataframe tbody tr th:only-of-type {\n",
       "        vertical-align: middle;\n",
       "    }\n",
       "\n",
       "    .dataframe tbody tr th {\n",
       "        vertical-align: top;\n",
       "    }\n",
       "\n",
       "    .dataframe thead th {\n",
       "        text-align: right;\n",
       "    }\n",
       "</style>\n",
       "<table border=\"1\" class=\"dataframe\">\n",
       "  <thead>\n",
       "    <tr style=\"text-align: right;\">\n",
       "      <th></th>\n",
       "      <th>tweet_id</th>\n",
       "      <th>timestamp</th>\n",
       "      <th>text</th>\n",
       "      <th>retweet_count</th>\n",
       "      <th>reply_count</th>\n",
       "      <th>like_count</th>\n",
       "      <th>quote_count</th>\n",
       "    </tr>\n",
       "  </thead>\n",
       "  <tbody>\n",
       "    <tr>\n",
       "      <th>0</th>\n",
       "      <td>892420643555336193</td>\n",
       "      <td>2017-08-01T16:23:56.000Z</td>\n",
       "      <td>This is Phineas. He's a mystical boy. Only eve...</td>\n",
       "      <td>6822</td>\n",
       "      <td>135</td>\n",
       "      <td>32678</td>\n",
       "      <td>219</td>\n",
       "    </tr>\n",
       "    <tr>\n",
       "      <th>1</th>\n",
       "      <td>892177421306343426</td>\n",
       "      <td>2017-08-01T00:17:27.000Z</td>\n",
       "      <td>This is Tilly. She's just checking pup on you....</td>\n",
       "      <td>5136</td>\n",
       "      <td>162</td>\n",
       "      <td>28245</td>\n",
       "      <td>274</td>\n",
       "    </tr>\n",
       "    <tr>\n",
       "      <th>2</th>\n",
       "      <td>891815181378084864</td>\n",
       "      <td>2017-07-31T00:18:03.000Z</td>\n",
       "      <td>This is Archie. He is a rare Norwegian Pouncin...</td>\n",
       "      <td>3392</td>\n",
       "      <td>108</td>\n",
       "      <td>21210</td>\n",
       "      <td>145</td>\n",
       "    </tr>\n",
       "    <tr>\n",
       "      <th>3</th>\n",
       "      <td>891689557279858688</td>\n",
       "      <td>2017-07-30T15:58:51.000Z</td>\n",
       "      <td>This is Darla. She commenced a snooze mid meal...</td>\n",
       "      <td>7036</td>\n",
       "      <td>139</td>\n",
       "      <td>35627</td>\n",
       "      <td>286</td>\n",
       "    </tr>\n",
       "    <tr>\n",
       "      <th>4</th>\n",
       "      <td>891327558926688256</td>\n",
       "      <td>2017-07-29T16:00:24.000Z</td>\n",
       "      <td>This is Franklin. He would like you to stop ca...</td>\n",
       "      <td>7552</td>\n",
       "      <td>192</td>\n",
       "      <td>34034</td>\n",
       "      <td>296</td>\n",
       "    </tr>\n",
       "    <tr>\n",
       "      <th>...</th>\n",
       "      <td>...</td>\n",
       "      <td>...</td>\n",
       "      <td>...</td>\n",
       "      <td>...</td>\n",
       "      <td>...</td>\n",
       "      <td>...</td>\n",
       "      <td>...</td>\n",
       "    </tr>\n",
       "    <tr>\n",
       "      <th>2321</th>\n",
       "      <td>666049248165822465</td>\n",
       "      <td>2015-11-16T00:24:50.000Z</td>\n",
       "      <td>Here we have a 1949 1st generation vulpix. Enj...</td>\n",
       "      <td>36</td>\n",
       "      <td>9</td>\n",
       "      <td>85</td>\n",
       "      <td>0</td>\n",
       "    </tr>\n",
       "    <tr>\n",
       "      <th>2322</th>\n",
       "      <td>666044226329800704</td>\n",
       "      <td>2015-11-16T00:04:52.000Z</td>\n",
       "      <td>This is a purebred Piers Morgan. Loves to Netf...</td>\n",
       "      <td>111</td>\n",
       "      <td>1</td>\n",
       "      <td>241</td>\n",
       "      <td>2</td>\n",
       "    </tr>\n",
       "    <tr>\n",
       "      <th>2323</th>\n",
       "      <td>666033412701032449</td>\n",
       "      <td>2015-11-15T23:21:54.000Z</td>\n",
       "      <td>Here is a very happy pup. Big fan of well-main...</td>\n",
       "      <td>35</td>\n",
       "      <td>1</td>\n",
       "      <td>97</td>\n",
       "      <td>0</td>\n",
       "    </tr>\n",
       "    <tr>\n",
       "      <th>2324</th>\n",
       "      <td>666029285002620928</td>\n",
       "      <td>2015-11-15T23:05:30.000Z</td>\n",
       "      <td>This is a western brown Mitsubishi terrier. Up...</td>\n",
       "      <td>39</td>\n",
       "      <td>0</td>\n",
       "      <td>110</td>\n",
       "      <td>0</td>\n",
       "    </tr>\n",
       "    <tr>\n",
       "      <th>2325</th>\n",
       "      <td>666020888022790149</td>\n",
       "      <td>2015-11-15T22:32:08.000Z</td>\n",
       "      <td>Here we have a Japanese Irish Setter. Lost eye...</td>\n",
       "      <td>412</td>\n",
       "      <td>19</td>\n",
       "      <td>2215</td>\n",
       "      <td>31</td>\n",
       "    </tr>\n",
       "  </tbody>\n",
       "</table>\n",
       "<p>2326 rows × 7 columns</p>\n",
       "</div>"
      ],
      "text/plain": [
       "                tweet_id                 timestamp  \\\n",
       "0     892420643555336193  2017-08-01T16:23:56.000Z   \n",
       "1     892177421306343426  2017-08-01T00:17:27.000Z   \n",
       "2     891815181378084864  2017-07-31T00:18:03.000Z   \n",
       "3     891689557279858688  2017-07-30T15:58:51.000Z   \n",
       "4     891327558926688256  2017-07-29T16:00:24.000Z   \n",
       "...                  ...                       ...   \n",
       "2321  666049248165822465  2015-11-16T00:24:50.000Z   \n",
       "2322  666044226329800704  2015-11-16T00:04:52.000Z   \n",
       "2323  666033412701032449  2015-11-15T23:21:54.000Z   \n",
       "2324  666029285002620928  2015-11-15T23:05:30.000Z   \n",
       "2325  666020888022790149  2015-11-15T22:32:08.000Z   \n",
       "\n",
       "                                                   text  retweet_count  \\\n",
       "0     This is Phineas. He's a mystical boy. Only eve...           6822   \n",
       "1     This is Tilly. She's just checking pup on you....           5136   \n",
       "2     This is Archie. He is a rare Norwegian Pouncin...           3392   \n",
       "3     This is Darla. She commenced a snooze mid meal...           7036   \n",
       "4     This is Franklin. He would like you to stop ca...           7552   \n",
       "...                                                 ...            ...   \n",
       "2321  Here we have a 1949 1st generation vulpix. Enj...             36   \n",
       "2322  This is a purebred Piers Morgan. Loves to Netf...            111   \n",
       "2323  Here is a very happy pup. Big fan of well-main...             35   \n",
       "2324  This is a western brown Mitsubishi terrier. Up...             39   \n",
       "2325  Here we have a Japanese Irish Setter. Lost eye...            412   \n",
       "\n",
       "      reply_count  like_count  quote_count  \n",
       "0             135       32678          219  \n",
       "1             162       28245          274  \n",
       "2             108       21210          145  \n",
       "3             139       35627          286  \n",
       "4             192       34034          296  \n",
       "...           ...         ...          ...  \n",
       "2321            9          85            0  \n",
       "2322            1         241            2  \n",
       "2323            1          97            0  \n",
       "2324            0         110            0  \n",
       "2325           19        2215           31  \n",
       "\n",
       "[2326 rows x 7 columns]"
      ]
     },
     "metadata": {},
     "output_type": "display_data"
    }
   ],
   "source": [
    "display(api_data)"
   ]
  },
  {
   "cell_type": "markdown",
   "id": "746362db",
   "metadata": {},
   "source": [
    "### Programmatic Assessment\n",
    "#### `archive_data` table"
   ]
  },
  {
   "cell_type": "code",
   "execution_count": 10,
   "id": "e287dbf4",
   "metadata": {},
   "outputs": [
    {
     "name": "stdout",
     "output_type": "stream",
     "text": [
      "\u001b[1m archive_data info: \u001b[0m\n",
      "<class 'pandas.core.frame.DataFrame'>\n",
      "RangeIndex: 2356 entries, 0 to 2355\n",
      "Data columns (total 17 columns):\n",
      " #   Column                      Non-Null Count  Dtype  \n",
      "---  ------                      --------------  -----  \n",
      " 0   tweet_id                    2356 non-null   int64  \n",
      " 1   in_reply_to_status_id       78 non-null     float64\n",
      " 2   in_reply_to_user_id         78 non-null     float64\n",
      " 3   timestamp                   2356 non-null   object \n",
      " 4   source                      2356 non-null   object \n",
      " 5   text                        2356 non-null   object \n",
      " 6   retweeted_status_id         181 non-null    float64\n",
      " 7   retweeted_status_user_id    181 non-null    float64\n",
      " 8   retweeted_status_timestamp  181 non-null    object \n",
      " 9   expanded_urls               2297 non-null   object \n",
      " 10  rating_numerator            2356 non-null   int64  \n",
      " 11  rating_denominator          2356 non-null   int64  \n",
      " 12  name                        2356 non-null   object \n",
      " 13  doggo                       2356 non-null   object \n",
      " 14  floofer                     2356 non-null   object \n",
      " 15  pupper                      2356 non-null   object \n",
      " 16  puppo                       2356 non-null   object \n",
      "dtypes: float64(4), int64(3), object(10)\n",
      "memory usage: 313.0+ KB\n",
      "None\n"
     ]
    }
   ],
   "source": [
    "# High level overview of the dataset\n",
    "print('\\033[1m archive_data info: \\033[0m')\n",
    "print(archive_data.info())"
   ]
  },
  {
   "cell_type": "code",
   "execution_count": 11,
   "id": "e85135b6",
   "metadata": {},
   "outputs": [
    {
     "name": "stdout",
     "output_type": "stream",
     "text": [
      "\u001b[1m archive_data statistical summary: \u001b[0m\n"
     ]
    },
    {
     "data": {
      "text/html": [
       "<div>\n",
       "<style scoped>\n",
       "    .dataframe tbody tr th:only-of-type {\n",
       "        vertical-align: middle;\n",
       "    }\n",
       "\n",
       "    .dataframe tbody tr th {\n",
       "        vertical-align: top;\n",
       "    }\n",
       "\n",
       "    .dataframe thead th {\n",
       "        text-align: right;\n",
       "    }\n",
       "</style>\n",
       "<table border=\"1\" class=\"dataframe\">\n",
       "  <thead>\n",
       "    <tr style=\"text-align: right;\">\n",
       "      <th></th>\n",
       "      <th>tweet_id</th>\n",
       "      <th>in_reply_to_status_id</th>\n",
       "      <th>in_reply_to_user_id</th>\n",
       "      <th>retweeted_status_id</th>\n",
       "      <th>retweeted_status_user_id</th>\n",
       "      <th>rating_numerator</th>\n",
       "      <th>rating_denominator</th>\n",
       "    </tr>\n",
       "  </thead>\n",
       "  <tbody>\n",
       "    <tr>\n",
       "      <th>count</th>\n",
       "      <td>2.356000e+03</td>\n",
       "      <td>7.800000e+01</td>\n",
       "      <td>7.800000e+01</td>\n",
       "      <td>1.810000e+02</td>\n",
       "      <td>1.810000e+02</td>\n",
       "      <td>2356.000000</td>\n",
       "      <td>2356.000000</td>\n",
       "    </tr>\n",
       "    <tr>\n",
       "      <th>mean</th>\n",
       "      <td>7.427716e+17</td>\n",
       "      <td>7.455079e+17</td>\n",
       "      <td>2.014171e+16</td>\n",
       "      <td>7.720400e+17</td>\n",
       "      <td>1.241698e+16</td>\n",
       "      <td>13.126486</td>\n",
       "      <td>10.455433</td>\n",
       "    </tr>\n",
       "    <tr>\n",
       "      <th>std</th>\n",
       "      <td>6.856705e+16</td>\n",
       "      <td>7.582492e+16</td>\n",
       "      <td>1.252797e+17</td>\n",
       "      <td>6.236928e+16</td>\n",
       "      <td>9.599254e+16</td>\n",
       "      <td>45.876648</td>\n",
       "      <td>6.745237</td>\n",
       "    </tr>\n",
       "    <tr>\n",
       "      <th>min</th>\n",
       "      <td>6.660209e+17</td>\n",
       "      <td>6.658147e+17</td>\n",
       "      <td>1.185634e+07</td>\n",
       "      <td>6.661041e+17</td>\n",
       "      <td>7.832140e+05</td>\n",
       "      <td>0.000000</td>\n",
       "      <td>0.000000</td>\n",
       "    </tr>\n",
       "    <tr>\n",
       "      <th>25%</th>\n",
       "      <td>6.783989e+17</td>\n",
       "      <td>6.757419e+17</td>\n",
       "      <td>3.086374e+08</td>\n",
       "      <td>7.186315e+17</td>\n",
       "      <td>4.196984e+09</td>\n",
       "      <td>10.000000</td>\n",
       "      <td>10.000000</td>\n",
       "    </tr>\n",
       "    <tr>\n",
       "      <th>50%</th>\n",
       "      <td>7.196279e+17</td>\n",
       "      <td>7.038708e+17</td>\n",
       "      <td>4.196984e+09</td>\n",
       "      <td>7.804657e+17</td>\n",
       "      <td>4.196984e+09</td>\n",
       "      <td>11.000000</td>\n",
       "      <td>10.000000</td>\n",
       "    </tr>\n",
       "    <tr>\n",
       "      <th>75%</th>\n",
       "      <td>7.993373e+17</td>\n",
       "      <td>8.257804e+17</td>\n",
       "      <td>4.196984e+09</td>\n",
       "      <td>8.203146e+17</td>\n",
       "      <td>4.196984e+09</td>\n",
       "      <td>12.000000</td>\n",
       "      <td>10.000000</td>\n",
       "    </tr>\n",
       "    <tr>\n",
       "      <th>max</th>\n",
       "      <td>8.924206e+17</td>\n",
       "      <td>8.862664e+17</td>\n",
       "      <td>8.405479e+17</td>\n",
       "      <td>8.874740e+17</td>\n",
       "      <td>7.874618e+17</td>\n",
       "      <td>1776.000000</td>\n",
       "      <td>170.000000</td>\n",
       "    </tr>\n",
       "  </tbody>\n",
       "</table>\n",
       "</div>"
      ],
      "text/plain": [
       "           tweet_id  in_reply_to_status_id  in_reply_to_user_id  \\\n",
       "count  2.356000e+03           7.800000e+01         7.800000e+01   \n",
       "mean   7.427716e+17           7.455079e+17         2.014171e+16   \n",
       "std    6.856705e+16           7.582492e+16         1.252797e+17   \n",
       "min    6.660209e+17           6.658147e+17         1.185634e+07   \n",
       "25%    6.783989e+17           6.757419e+17         3.086374e+08   \n",
       "50%    7.196279e+17           7.038708e+17         4.196984e+09   \n",
       "75%    7.993373e+17           8.257804e+17         4.196984e+09   \n",
       "max    8.924206e+17           8.862664e+17         8.405479e+17   \n",
       "\n",
       "       retweeted_status_id  retweeted_status_user_id  rating_numerator  \\\n",
       "count         1.810000e+02              1.810000e+02       2356.000000   \n",
       "mean          7.720400e+17              1.241698e+16         13.126486   \n",
       "std           6.236928e+16              9.599254e+16         45.876648   \n",
       "min           6.661041e+17              7.832140e+05          0.000000   \n",
       "25%           7.186315e+17              4.196984e+09         10.000000   \n",
       "50%           7.804657e+17              4.196984e+09         11.000000   \n",
       "75%           8.203146e+17              4.196984e+09         12.000000   \n",
       "max           8.874740e+17              7.874618e+17       1776.000000   \n",
       "\n",
       "       rating_denominator  \n",
       "count         2356.000000  \n",
       "mean            10.455433  \n",
       "std              6.745237  \n",
       "min              0.000000  \n",
       "25%             10.000000  \n",
       "50%             10.000000  \n",
       "75%             10.000000  \n",
       "max            170.000000  "
      ]
     },
     "metadata": {},
     "output_type": "display_data"
    }
   ],
   "source": [
    "# Summary statistics\n",
    "print('\\033[1m archive_data statistical summary: \\033[0m')\n",
    "display(archive_data.describe())"
   ]
  },
  {
   "cell_type": "code",
   "execution_count": 12,
   "id": "9a56cfea",
   "metadata": {},
   "outputs": [
    {
     "name": "stdout",
     "output_type": "stream",
     "text": [
      "\u001b[1m archive_data null values: \u001b[0m\n",
      "tweet_id                         0\n",
      "in_reply_to_status_id         2278\n",
      "in_reply_to_user_id           2278\n",
      "timestamp                        0\n",
      "source                           0\n",
      "text                             0\n",
      "retweeted_status_id           2175\n",
      "retweeted_status_user_id      2175\n",
      "retweeted_status_timestamp    2175\n",
      "expanded_urls                   59\n",
      "rating_numerator                 0\n",
      "rating_denominator               0\n",
      "name                             0\n",
      "doggo                            0\n",
      "floofer                          0\n",
      "pupper                           0\n",
      "puppo                            0\n",
      "dtype: int64\n"
     ]
    }
   ],
   "source": [
    "# Check for null values\n",
    "print('\\033[1m archive_data null values: \\033[0m')\n",
    "print(archive_data.isnull().sum())"
   ]
  },
  {
   "cell_type": "code",
   "execution_count": 13,
   "id": "c8efd1ab",
   "metadata": {},
   "outputs": [
    {
     "name": "stdout",
     "output_type": "stream",
     "text": [
      "\u001b[1m archive_data duplicates \u001b[0m = 0\n"
     ]
    }
   ],
   "source": [
    "# Check for duplicates\n",
    "print(f'\\033[1m archive_data duplicates \\033[0m = {archive_data.duplicated().sum()}')"
   ]
  },
  {
   "cell_type": "code",
   "execution_count": 14,
   "id": "c8e2ce90",
   "metadata": {},
   "outputs": [
    {
     "name": "stdout",
     "output_type": "stream",
     "text": [
      "Number of invalid values of rating_denominator: 23\n"
     ]
    }
   ],
   "source": [
    "# Check for invalid values of `rating_denominator`\n",
    "print(f\"Number of invalid values of rating_denominator: {archive_data.query('rating_denominator != 10').shape[0]}\")"
   ]
  },
  {
   "cell_type": "code",
   "execution_count": 15,
   "id": "8c0b4ed7",
   "metadata": {},
   "outputs": [
    {
     "name": "stdout",
     "output_type": "stream",
     "text": [
      "\u001b[1m Rows with unusual numerator: \u001b[0m\n",
      " 313                                                                            @jonnysun @Lin_Manuel ok jomny I know you're excited but 960/00 isn't a valid rating, 13/10 is tho\n",
      "342                                                                                                                                      @docmisterio account started on 11/15/15\n",
      "433                                                                           The floofs have been released I repeat the floofs have been released. 84/70 https://t.co/NIYC820tmd\n",
      "516     Meet Sam. She smiles 24/7 &amp; secretly aspires to be a reindeer. \\nKeep Sam smiling by clicking and sharing this link:\\nhttps://t.co/98tB8y7y7t https://t.co/LouL5vdvxx\n",
      "784                                  RT @dog_rates: After so many requests, this is Bretagne. She was the last surviving 9/11 search dog, and our second ever 14/10. RIP https:/…\n",
      "902                                                                                                Why does this never happen at my front door... 165/150 https://t.co/HmwrdfEfUE\n",
      "1068                                 After so many requests, this is Bretagne. She was the last surviving 9/11 search dog, and our second ever 14/10. RIP https://t.co/XAVDNDaVgQ\n",
      "1120                                                    Say hello to this unbelievably well behaved squad of doggos. 204/170 would try to pet all at once https://t.co/yGQI3He3xv\n",
      "1165                                                                                                             Happy 4/20 from the squad! 13/10 for all https://t.co/eV1diwds8a\n",
      "1202                                                        This is Bluebert. He just saw that both #FinalFur match ups are split 50/50. Amazed af. 11/10 https://t.co/Kky1DPG4iq\n",
      "1228                                                                                Happy Saturday here's 9 puppers on a bench. 99/90 good work everybody https://t.co/mpvaVxKmc1\n",
      "1254                                                                 Here's a brigade of puppers. All look very prepared for whatever happens next. 80/80 https://t.co/0eb7R1Om12\n",
      "1274                           From left to right:\\nCletus, Jerome, Alejandro, Burp, &amp; Titson\\nNone know where camera is. 45/50 would hug all at once https://t.co/sedre1ivTK\n",
      "1351                                                                                           Here is a whole flock of puppers.  60/50 I'll take the lot https://t.co/9dpcw6MdWa\n",
      "1433                                                                                 Happy Wednesday here's a bucket of pups. 44/40 would pet all at once https://t.co/HppvrYuamZ\n",
      "1598                                     Yes I do realize a rating of 4/20 would've been fitting. However, it would be unjust to give these cooperative pups that low of a rating\n",
      "1634                                               Two sneaky puppers were not initially seen, moving the rating to 143/130. Please forgive us. Thank you https://t.co/kRK51Y5ac3\n",
      "1635                                 Someone help the girl is being mugged. Several are distracting her while two steal her shoes. Clever puppers 121/110 https://t.co/1zfnTJLt55\n",
      "1662                                  This is Darrel. He just robbed a 7/11 and is in a high speed police chase. Was just spotted by the helicopter 10/10 https://t.co/7EsP8LmSp5\n",
      "1663                                  I'm aware that I could've said 20/16, but here at WeRateDogs we are very professional. An inconsistent rating scale is simply irresponsible\n",
      "1779                                                                                                       IT'S PUPPERGEDDON. Total of 144/120 ...I think https://t.co/ZanVtAtvIq\n",
      "1843                                                                  Here we have an entire platoon of puppers. Total score: 88/80 would pet all at once https://t.co/y93p6FLvVw\n",
      "2335                                     This is an Albanian 3 1/2 legged  Episcopalian. Loves well-polished hardwood flooring. Penis on the collar. 9/10 https://t.co/d9NcXFKwLv\n",
      "Name: text, dtype: object\n"
     ]
    }
   ],
   "source": [
    "# Change Pandas max string legnth\n",
    "pd.set_option('display.max_colwidth', 255)\n",
    "# Visual assessment of `text` for these values\n",
    "unusual_numerator = archive_data.query('rating_denominator != 10').text\n",
    "print(f'\\033[1m Rows with unusual numerator: \\033[0m\\n {unusual_numerator}')"
   ]
  },
  {
   "cell_type": "code",
   "execution_count": 16,
   "id": "b8b31cb2",
   "metadata": {},
   "outputs": [
    {
     "name": "stdout",
     "output_type": "stream",
     "text": [
      "\u001b[1m Rows with very large numerator: \u001b[1m\n",
      "979     1776\n",
      "313      960\n",
      "189      666\n",
      "188      420\n",
      "2074     420\n",
      "1120     204\n",
      "290      182\n",
      "902      165\n",
      "1779     144\n",
      "1634     143\n",
      "Name: rating_numerator, dtype: int64\n"
     ]
    }
   ],
   "source": [
    "# Find `rating_numerator` largest 10 values for visual comparision with `text`\n",
    "large_numerator = archive_data.rating_numerator.sort_values(ascending=False)[:10]\n",
    "print(f'\\033[1m Rows with very large numerator: \\033[1m\\n{large_numerator}')"
   ]
  },
  {
   "cell_type": "code",
   "execution_count": 17,
   "id": "faa15eab",
   "metadata": {},
   "outputs": [
    {
     "name": "stdout",
     "output_type": "stream",
     "text": [
      "979                                                            This is Atticus. He's quite simply America af. 1776/10 https://t.co/GRXwMxLBkh\n",
      "313                                        @jonnysun @Lin_Manuel ok jomny I know you're excited but 960/00 isn't a valid rating, 13/10 is tho\n",
      "189     @s8n You tried very hard to portray this good boy as not so good, but you have ultimately failed. His goodness shines through. 666/10\n",
      "188                                                    @dhmontgomery We also gave snoop dogg a 420/10 but I think that predated your research\n",
      "2074                                                      After so many requests... here you go.\\n\\nGood dogg. 420/10 https://t.co/yfAAo1gdeY\n",
      "1120                Say hello to this unbelievably well behaved squad of doggos. 204/170 would try to pet all at once https://t.co/yGQI3He3xv\n",
      "290                                                                                                                        @markhoppus 182/10\n",
      "902                                                            Why does this never happen at my front door... 165/150 https://t.co/HmwrdfEfUE\n",
      "1779                                                                   IT'S PUPPERGEDDON. Total of 144/120 ...I think https://t.co/ZanVtAtvIq\n",
      "1634           Two sneaky puppers were not initially seen, moving the rating to 143/130. Please forgive us. Thank you https://t.co/kRK51Y5ac3\n",
      "Name: text, dtype: object\n"
     ]
    }
   ],
   "source": [
    "# Extract ratings from `text`\n",
    "print(archive_data.text.iloc[large_numerator.index])"
   ]
  },
  {
   "cell_type": "markdown",
   "id": "20f56cbf",
   "metadata": {},
   "source": [
    ">***Denominator***\n",
    "\n",
    "**Values to be changed to 10**: 313, 784, 1068, 1165, 1202, 1662, 2335\n",
    "\n",
    "**Valid values**: 433, 902, 1120, 1228, 1254, 1274, 1351, 1433, 1598, 1634, 1635, 1663, 1779, 1843\n",
    "\n",
    "**Values to be removed**: 342, 516\n",
    "\n",
    ">***Numerator***\n",
    "\n",
    "**Values to be changed**: 313, 784, 1068, 1165, 1202, 1662, 2335\n",
    "\n",
    "**Valid values**: 433, 902, 1120, 1228, 1254, 1274, 1351, 1433, 1598, 1634, 1635, 1663, 1779, 1843"
   ]
  },
  {
   "cell_type": "code",
   "execution_count": 18,
   "id": "afabcfc2",
   "metadata": {},
   "outputs": [
    {
     "name": "stdout",
     "output_type": "stream",
     "text": [
      "number of articles mistaken for dog's name: 70\n"
     ]
    }
   ],
   "source": [
    "# Check for invalid `name` values (articles)\n",
    "article_names = archive_data.query('name == \"a\" or name == \"an\" or name == \"the\"')\n",
    "print(f\"number of articles mistaken for dog's name: {article_names.shape[0]}\")"
   ]
  },
  {
   "cell_type": "code",
   "execution_count": 19,
   "id": "1210ac08",
   "metadata": {},
   "outputs": [
    {
     "data": {
      "text/plain": [
       "6       Jax\n",
       "13      Ted\n",
       "16      Jim\n",
       "49      Gus\n",
       "53      Rey\n",
       "77      Aja\n",
       "92      Jed\n",
       "217     Leo\n",
       "266     Ken\n",
       "270     Max\n",
       "304     Ava\n",
       "308     Eli\n",
       "311     Ash\n",
       "319     Leo\n",
       "335     not\n",
       "360     Mia\n",
       "361     Leo\n",
       "366     Gus\n",
       "369     one\n",
       "392     Ike\n",
       "393      Mo\n",
       "446      Bo\n",
       "449      Bo\n",
       "454     Tom\n",
       "463     Ken\n",
       "486     Alf\n",
       "491     Sky\n",
       "503     Tyr\n",
       "510     Moe\n",
       "511     Ted\n",
       "516     Sam\n",
       "520     Gus\n",
       "526     Ito\n",
       "553      Bo\n",
       "582     Doc\n",
       "583      Bo\n",
       "613     Tyr\n",
       "673     Eli\n",
       "679      Bo\n",
       "682     mad\n",
       "685     Leo\n",
       "686      Bo\n",
       "708     Doc\n",
       "752     Jay\n",
       "755     Mya\n",
       "775       O\n",
       "820      Al\n",
       "831     Lou\n",
       "852      my\n",
       "860     Eve\n",
       "876      Bo\n",
       "917     Jax\n",
       "924     one\n",
       "930     Dex\n",
       "938     Ace\n",
       "957     Max\n",
       "966     Zoe\n",
       "976     Jax\n",
       "978      Bo\n",
       "984     Blu\n",
       "988     not\n",
       "992     his\n",
       "993     one\n",
       "1028    Gus\n",
       "1062    Ted\n",
       "1064    Leo\n",
       "1095    mad\n",
       "1105    Jax\n",
       "1138    all\n",
       "1179    Sid\n",
       "1206    old\n",
       "1329    Max\n",
       "1430    Ole\n",
       "1455    Bob\n",
       "1509    Leo\n",
       "1633    Obi\n",
       "1674    Jax\n",
       "1683     Bo\n",
       "1724     by\n",
       "1741    Evy\n",
       "1755    Tug\n",
       "1756    Mia\n",
       "1809    Ash\n",
       "1879    Moe\n",
       "1899    Jeb\n",
       "1909    Ava\n",
       "1919    Bob\n",
       "1921    Gus\n",
       "1936    one\n",
       "1946    Dot\n",
       "1970    Eve\n",
       "1971    Mac\n",
       "1988     Ed\n",
       "1996    Taz\n",
       "2014    Cal\n",
       "2027    Mia\n",
       "2041     JD\n",
       "2045    Jax\n",
       "2050    Pip\n",
       "2057    Lou\n",
       "2078    Amy\n",
       "2096    Gin\n",
       "2106    Edd\n",
       "2114    Sam\n",
       "2137    Ben\n",
       "2168    Dug\n",
       "2219     Jo\n",
       "2233    Ron\n",
       "2245    Stu\n",
       "Name: name, dtype: object"
      ]
     },
     "metadata": {},
     "output_type": "display_data"
    }
   ],
   "source": [
    "# Check for other names with less than 3 letters\n",
    "short_names = archive_data[(archive_data['name'].agg(len)) <= 3]\n",
    "short_not_articles = short_names[~short_names.index.isin(article_names.index)]\n",
    "\n",
    "# set display options to show all rows\n",
    "pd.options.display.max_rows = None\n",
    "display(short_not_articles['name'])\n",
    "\n",
    "# reset all display options to defaults\n",
    "pd.reset_option('display.max_rows')"
   ]
  },
  {
   "cell_type": "markdown",
   "id": "518bcb68",
   "metadata": {},
   "source": [
    "Beside articles mistaken for the dog's name, two additional wrong names were discovered (indexs 775 and 1724)"
   ]
  },
  {
   "cell_type": "code",
   "execution_count": 20,
   "id": "8aeae344",
   "metadata": {},
   "outputs": [
    {
     "name": "stdout",
     "output_type": "stream",
     "text": [
      "<a href=\"http://twitter.com/download/iphone\" rel=\"nofollow\">Twitter for iPhone</a>     2221\n",
      "<a href=\"http://vine.co\" rel=\"nofollow\">Vine - Make a Scene</a>                          91\n",
      "<a href=\"http://twitter.com\" rel=\"nofollow\">Twitter Web Client</a>                       33\n",
      "<a href=\"https://about.twitter.com/products/tweetdeck\" rel=\"nofollow\">TweetDeck</a>      11\n",
      "Name: source, dtype: int64\n"
     ]
    }
   ],
   "source": [
    "# `source` values, no apparent problem\n",
    "print(archive_data.source.value_counts())"
   ]
  },
  {
   "cell_type": "markdown",
   "id": "ac7b4ca9",
   "metadata": {},
   "source": [
    "#### `img_pred` table"
   ]
  },
  {
   "cell_type": "code",
   "execution_count": 21,
   "id": "717c7d88",
   "metadata": {},
   "outputs": [
    {
     "name": "stdout",
     "output_type": "stream",
     "text": [
      "\u001b[1m img_pred info: \u001b[0m\n",
      "<class 'pandas.core.frame.DataFrame'>\n",
      "RangeIndex: 2075 entries, 0 to 2074\n",
      "Data columns (total 12 columns):\n",
      " #   Column    Non-Null Count  Dtype  \n",
      "---  ------    --------------  -----  \n",
      " 0   tweet_id  2075 non-null   int64  \n",
      " 1   jpg_url   2075 non-null   object \n",
      " 2   img_num   2075 non-null   int64  \n",
      " 3   p1        2075 non-null   object \n",
      " 4   p1_conf   2075 non-null   float64\n",
      " 5   p1_dog    2075 non-null   bool   \n",
      " 6   p2        2075 non-null   object \n",
      " 7   p2_conf   2075 non-null   float64\n",
      " 8   p2_dog    2075 non-null   bool   \n",
      " 9   p3        2075 non-null   object \n",
      " 10  p3_conf   2075 non-null   float64\n",
      " 11  p3_dog    2075 non-null   bool   \n",
      "dtypes: bool(3), float64(3), int64(2), object(4)\n",
      "memory usage: 152.1+ KB\n",
      "None\n"
     ]
    }
   ],
   "source": [
    "# High level overview of the dataset\n",
    "print('\\033[1m img_pred info: \\033[0m')\n",
    "print(img_pred.info())"
   ]
  },
  {
   "cell_type": "code",
   "execution_count": 22,
   "id": "b997e73c",
   "metadata": {},
   "outputs": [
    {
     "name": "stdout",
     "output_type": "stream",
     "text": [
      "\u001b[1m Statistical Summary of img_pred\n",
      "\u001b[0m\n"
     ]
    },
    {
     "data": {
      "text/html": [
       "<div>\n",
       "<style scoped>\n",
       "    .dataframe tbody tr th:only-of-type {\n",
       "        vertical-align: middle;\n",
       "    }\n",
       "\n",
       "    .dataframe tbody tr th {\n",
       "        vertical-align: top;\n",
       "    }\n",
       "\n",
       "    .dataframe thead th {\n",
       "        text-align: right;\n",
       "    }\n",
       "</style>\n",
       "<table border=\"1\" class=\"dataframe\">\n",
       "  <thead>\n",
       "    <tr style=\"text-align: right;\">\n",
       "      <th></th>\n",
       "      <th>tweet_id</th>\n",
       "      <th>img_num</th>\n",
       "      <th>p1_conf</th>\n",
       "      <th>p2_conf</th>\n",
       "      <th>p3_conf</th>\n",
       "    </tr>\n",
       "  </thead>\n",
       "  <tbody>\n",
       "    <tr>\n",
       "      <th>count</th>\n",
       "      <td>2.075000e+03</td>\n",
       "      <td>2075.000000</td>\n",
       "      <td>2075.000000</td>\n",
       "      <td>2.075000e+03</td>\n",
       "      <td>2.075000e+03</td>\n",
       "    </tr>\n",
       "    <tr>\n",
       "      <th>mean</th>\n",
       "      <td>7.384514e+17</td>\n",
       "      <td>1.203855</td>\n",
       "      <td>0.594548</td>\n",
       "      <td>1.345886e-01</td>\n",
       "      <td>6.032417e-02</td>\n",
       "    </tr>\n",
       "    <tr>\n",
       "      <th>std</th>\n",
       "      <td>6.785203e+16</td>\n",
       "      <td>0.561875</td>\n",
       "      <td>0.271174</td>\n",
       "      <td>1.006657e-01</td>\n",
       "      <td>5.090593e-02</td>\n",
       "    </tr>\n",
       "    <tr>\n",
       "      <th>min</th>\n",
       "      <td>6.660209e+17</td>\n",
       "      <td>1.000000</td>\n",
       "      <td>0.044333</td>\n",
       "      <td>1.011300e-08</td>\n",
       "      <td>1.740170e-10</td>\n",
       "    </tr>\n",
       "    <tr>\n",
       "      <th>25%</th>\n",
       "      <td>6.764835e+17</td>\n",
       "      <td>1.000000</td>\n",
       "      <td>0.364412</td>\n",
       "      <td>5.388625e-02</td>\n",
       "      <td>1.622240e-02</td>\n",
       "    </tr>\n",
       "    <tr>\n",
       "      <th>50%</th>\n",
       "      <td>7.119988e+17</td>\n",
       "      <td>1.000000</td>\n",
       "      <td>0.588230</td>\n",
       "      <td>1.181810e-01</td>\n",
       "      <td>4.944380e-02</td>\n",
       "    </tr>\n",
       "    <tr>\n",
       "      <th>75%</th>\n",
       "      <td>7.932034e+17</td>\n",
       "      <td>1.000000</td>\n",
       "      <td>0.843855</td>\n",
       "      <td>1.955655e-01</td>\n",
       "      <td>9.180755e-02</td>\n",
       "    </tr>\n",
       "    <tr>\n",
       "      <th>max</th>\n",
       "      <td>8.924206e+17</td>\n",
       "      <td>4.000000</td>\n",
       "      <td>1.000000</td>\n",
       "      <td>4.880140e-01</td>\n",
       "      <td>2.734190e-01</td>\n",
       "    </tr>\n",
       "  </tbody>\n",
       "</table>\n",
       "</div>"
      ],
      "text/plain": [
       "           tweet_id      img_num      p1_conf       p2_conf       p3_conf\n",
       "count  2.075000e+03  2075.000000  2075.000000  2.075000e+03  2.075000e+03\n",
       "mean   7.384514e+17     1.203855     0.594548  1.345886e-01  6.032417e-02\n",
       "std    6.785203e+16     0.561875     0.271174  1.006657e-01  5.090593e-02\n",
       "min    6.660209e+17     1.000000     0.044333  1.011300e-08  1.740170e-10\n",
       "25%    6.764835e+17     1.000000     0.364412  5.388625e-02  1.622240e-02\n",
       "50%    7.119988e+17     1.000000     0.588230  1.181810e-01  4.944380e-02\n",
       "75%    7.932034e+17     1.000000     0.843855  1.955655e-01  9.180755e-02\n",
       "max    8.924206e+17     4.000000     1.000000  4.880140e-01  2.734190e-01"
      ]
     },
     "execution_count": 22,
     "metadata": {},
     "output_type": "execute_result"
    }
   ],
   "source": [
    "# Summary statistics, no apparent problems\n",
    "print('\\033[1m Statistical Summary of img_pred\\n\\033[0m')\n",
    "img_pred.describe()"
   ]
  },
  {
   "cell_type": "code",
   "execution_count": 23,
   "id": "d1bce460",
   "metadata": {},
   "outputs": [
    {
     "name": "stdout",
     "output_type": "stream",
     "text": [
      "\u001b[1m img_pred null values: \u001b[0m\n",
      "tweet_id    0\n",
      "jpg_url     0\n",
      "img_num     0\n",
      "p1          0\n",
      "p1_conf     0\n",
      "p1_dog      0\n",
      "p2          0\n",
      "p2_conf     0\n",
      "p2_dog      0\n",
      "p3          0\n",
      "p3_conf     0\n",
      "p3_dog      0\n",
      "dtype: int64\n"
     ]
    }
   ],
   "source": [
    "# Check for null values\n",
    "print('\\033[1m img_pred null values: \\033[0m')\n",
    "print(img_pred.isnull().sum())"
   ]
  },
  {
   "cell_type": "code",
   "execution_count": 24,
   "id": "fded3ac6",
   "metadata": {},
   "outputs": [
    {
     "name": "stdout",
     "output_type": "stream",
     "text": [
      "\u001b[1m img_pred duplicates \u001b[0m = 0\n"
     ]
    }
   ],
   "source": [
    "# Check for duplicates\n",
    "print(f'\\033[1m img_pred duplicates \\033[0m = {img_pred.duplicated().sum()}')"
   ]
  },
  {
   "cell_type": "markdown",
   "id": "094e9890",
   "metadata": {},
   "source": [
    "#### `api_data` table"
   ]
  },
  {
   "cell_type": "code",
   "execution_count": 25,
   "id": "99d817fc",
   "metadata": {},
   "outputs": [
    {
     "name": "stdout",
     "output_type": "stream",
     "text": [
      "\u001b[1m api_data info: \u001b[0m\n",
      "<class 'pandas.core.frame.DataFrame'>\n",
      "RangeIndex: 2326 entries, 0 to 2325\n",
      "Data columns (total 7 columns):\n",
      " #   Column         Non-Null Count  Dtype \n",
      "---  ------         --------------  ----- \n",
      " 0   tweet_id       2326 non-null   object\n",
      " 1   timestamp      2326 non-null   object\n",
      " 2   text           2326 non-null   object\n",
      " 3   retweet_count  2326 non-null   int64 \n",
      " 4   reply_count    2326 non-null   int64 \n",
      " 5   like_count     2326 non-null   int64 \n",
      " 6   quote_count    2326 non-null   int64 \n",
      "dtypes: int64(4), object(3)\n",
      "memory usage: 127.3+ KB\n",
      "None\n"
     ]
    }
   ],
   "source": [
    "# High level overview of the dataset\n",
    "print('\\033[1m api_data info: \\033[0m')\n",
    "print(api_data.info())"
   ]
  },
  {
   "cell_type": "code",
   "execution_count": 26,
   "id": "ebd609f5",
   "metadata": {},
   "outputs": [
    {
     "name": "stdout",
     "output_type": "stream",
     "text": [
      "\u001b[1m Statistical Summary of api_data\n",
      "\u001b[0m\n"
     ]
    },
    {
     "data": {
      "text/html": [
       "<div>\n",
       "<style scoped>\n",
       "    .dataframe tbody tr th:only-of-type {\n",
       "        vertical-align: middle;\n",
       "    }\n",
       "\n",
       "    .dataframe tbody tr th {\n",
       "        vertical-align: top;\n",
       "    }\n",
       "\n",
       "    .dataframe thead th {\n",
       "        text-align: right;\n",
       "    }\n",
       "</style>\n",
       "<table border=\"1\" class=\"dataframe\">\n",
       "  <thead>\n",
       "    <tr style=\"text-align: right;\">\n",
       "      <th></th>\n",
       "      <th>retweet_count</th>\n",
       "      <th>reply_count</th>\n",
       "      <th>like_count</th>\n",
       "      <th>quote_count</th>\n",
       "    </tr>\n",
       "  </thead>\n",
       "  <tbody>\n",
       "    <tr>\n",
       "      <th>count</th>\n",
       "      <td>2326.000000</td>\n",
       "      <td>2326.000000</td>\n",
       "      <td>2326.000000</td>\n",
       "      <td>2326.000000</td>\n",
       "    </tr>\n",
       "    <tr>\n",
       "      <th>mean</th>\n",
       "      <td>2405.193895</td>\n",
       "      <td>41.206363</td>\n",
       "      <td>6816.897248</td>\n",
       "      <td>71.597592</td>\n",
       "    </tr>\n",
       "    <tr>\n",
       "      <th>std</th>\n",
       "      <td>4071.920012</td>\n",
       "      <td>69.150000</td>\n",
       "      <td>10591.464377</td>\n",
       "      <td>220.422690</td>\n",
       "    </tr>\n",
       "    <tr>\n",
       "      <th>min</th>\n",
       "      <td>0.000000</td>\n",
       "      <td>0.000000</td>\n",
       "      <td>0.000000</td>\n",
       "      <td>0.000000</td>\n",
       "    </tr>\n",
       "    <tr>\n",
       "      <th>25%</th>\n",
       "      <td>482.500000</td>\n",
       "      <td>9.000000</td>\n",
       "      <td>1186.000000</td>\n",
       "      <td>0.000000</td>\n",
       "    </tr>\n",
       "    <tr>\n",
       "      <th>50%</th>\n",
       "      <td>1117.000000</td>\n",
       "      <td>23.000000</td>\n",
       "      <td>2952.500000</td>\n",
       "      <td>1.000000</td>\n",
       "    </tr>\n",
       "    <tr>\n",
       "      <th>75%</th>\n",
       "      <td>2783.750000</td>\n",
       "      <td>47.000000</td>\n",
       "      <td>8333.250000</td>\n",
       "      <td>69.750000</td>\n",
       "    </tr>\n",
       "    <tr>\n",
       "      <th>max</th>\n",
       "      <td>68821.000000</td>\n",
       "      <td>1097.000000</td>\n",
       "      <td>140568.000000</td>\n",
       "      <td>4352.000000</td>\n",
       "    </tr>\n",
       "  </tbody>\n",
       "</table>\n",
       "</div>"
      ],
      "text/plain": [
       "       retweet_count  reply_count     like_count  quote_count\n",
       "count    2326.000000  2326.000000    2326.000000  2326.000000\n",
       "mean     2405.193895    41.206363    6816.897248    71.597592\n",
       "std      4071.920012    69.150000   10591.464377   220.422690\n",
       "min         0.000000     0.000000       0.000000     0.000000\n",
       "25%       482.500000     9.000000    1186.000000     0.000000\n",
       "50%      1117.000000    23.000000    2952.500000     1.000000\n",
       "75%      2783.750000    47.000000    8333.250000    69.750000\n",
       "max     68821.000000  1097.000000  140568.000000  4352.000000"
      ]
     },
     "execution_count": 26,
     "metadata": {},
     "output_type": "execute_result"
    }
   ],
   "source": [
    "# Summary statistics, no apparent problems\n",
    "print('\\033[1m Statistical Summary of api_data\\n\\033[0m')\n",
    "api_data.describe()"
   ]
  },
  {
   "cell_type": "code",
   "execution_count": 27,
   "id": "cbd4e753",
   "metadata": {},
   "outputs": [
    {
     "name": "stdout",
     "output_type": "stream",
     "text": [
      "\u001b[1m api_data null values: \u001b[0m\n",
      "tweet_id         0\n",
      "timestamp        0\n",
      "text             0\n",
      "retweet_count    0\n",
      "reply_count      0\n",
      "like_count       0\n",
      "quote_count      0\n",
      "dtype: int64\n"
     ]
    }
   ],
   "source": [
    "# Check for null values\n",
    "print('\\033[1m api_data null values: \\033[0m')\n",
    "print(api_data.isnull().sum())"
   ]
  },
  {
   "cell_type": "code",
   "execution_count": 28,
   "id": "02fd3c75",
   "metadata": {},
   "outputs": [
    {
     "name": "stdout",
     "output_type": "stream",
     "text": [
      "\u001b[1m api_data duplicates \u001b[0m = 0\n"
     ]
    }
   ],
   "source": [
    "# Check for duplicates\n",
    "print(f'\\033[1m api_data duplicates \\033[0m = {api_data.duplicated().sum()}')"
   ]
  },
  {
   "cell_type": "markdown",
   "id": "14e8377e",
   "metadata": {},
   "source": [
    "### Quality issues\n",
    "#### `archive_data` table\n",
    "- Table contains retweets. Analysis is based on original tweets only.\n",
    "- Table contains replies. Analysis is based on original tweets only.\n",
    "- Erroneous datatypes (`tweet_id`,`timestamp`)Erroneous datatypes (`tweet_id`,`timestamp`)\n",
    "- Invalid values in `rating_denominator` column\n",
    "- Invalid values in `rating_numerator` column\n",
    "- Invalid values in `name` column\n",
    "- 14 rows have more than one dog stage (discovered during cleaning)\n",
    "- Missing values in `expanded_urls`\n",
    "\n",
    "#### `img_pred` table\n",
    "- Erroneous datatype (`tweet_id`)\n",
    "\n",
    "#### `api_data` table\n",
    "- Erroneous datatype (`timestamp`)"
   ]
  },
  {
   "cell_type": "markdown",
   "id": "ea69fc8a",
   "metadata": {},
   "source": [
    "### Tidiness issues\n",
    "#### `archive_data` table\n",
    "- Four columns: `doggo`, `floofer`, `pupper`, `puppo` represent one variable `dog_stage`\n",
    "\n",
    "#### `img_pred` table\n",
    "- This table's data should be part of `archive_data` table\n",
    "\n",
    "#### `api_data` table\n",
    "- This table's data should be part of `archive_data` table"
   ]
  },
  {
   "cell_type": "markdown",
   "id": "f9c9e920-3a38-40f2-af20-a9fe2b6915d9",
   "metadata": {
    "id": "D6gmLnBttpCh"
   },
   "source": [
    "## 3. Clean data\n",
    "\n",
    "> All cleaning steps will be performed done using (Define - Code - Test) framework. Cleaning includes merging individual pieces of data according to the rules of [tidy data](https://cran.r-project.org/web/packages/tidyr/vignettes/tidy-data.html). The result should be a high-quality and tidy master pandas DataFrame (or DataFrames, if appropriate).\n",
    "\n",
    "> Before cleaning I'm making a copy of the original data."
   ]
  },
  {
   "cell_type": "code",
   "execution_count": 29,
   "id": "e662dd37",
   "metadata": {},
   "outputs": [],
   "source": [
    "# Make copies of original pieces of data\n",
    "archive_data_clean = archive_data.copy()\n",
    "img_pred_clean = img_pred.copy()\n",
    "api_data_clean = api_data.copy()"
   ]
  },
  {
   "cell_type": "markdown",
   "id": "3912022d-c0b1-4f33-8f99-d1a2f8e16e82",
   "metadata": {
    "tags": []
   },
   "source": [
    "### Issue 1 - Erroneous datatypes in all tables"
   ]
  },
  {
   "cell_type": "markdown",
   "id": "70b9797f-0ace-40cc-bcea-4d9b23f95e32",
   "metadata": {
    "extensions": {
     "jupyter_dashboards": {
      "version": 1,
      "views": {
       "grid_default": {
        "hidden": true
       },
       "report_default": {
        "hidden": true
       }
      }
     }
    },
    "jp-MarkdownHeadingCollapsed": true,
    "tags": []
   },
   "source": [
    "#### Define:\n",
    "Change erronous dtypes using `.astype` method. Create a function to automate the process for future use.\n",
    "\n",
    "The reason for applying `'string'` dtype to `'tweet_id'` column in all three tables is that I discoverred that some of them have leading or trailing white spaces. By converting them to 'string' dtype they can be stripped of these white spaces using `.str.strip()` method."
   ]
  },
  {
   "cell_type": "markdown",
   "id": "eafa7464-e58c-4a3c-91b8-27dc760f7f77",
   "metadata": {},
   "source": [
    "#### Code"
   ]
  },
  {
   "cell_type": "code",
   "execution_count": 30,
   "id": "6506d06c-33ab-4464-9f5f-731ec1e3b7d4",
   "metadata": {},
   "outputs": [],
   "source": [
    "# Create a function to automate the process\n",
    "def ChangeDtype(df, cols_dtypes):\n",
    "    '''\n",
    "    Change a DataFrame column(s) dtype\n",
    "    \n",
    "    Args:\n",
    "        df: Pandas DataFrame (Dataframe)\n",
    "        cols_dtypes: Dictionary. \n",
    "                      Keys are columns to change their dtype. \n",
    "                      Values are the new dtypes.\n",
    "    \n",
    "    Returns:\n",
    "        None\n",
    "    '''\n",
    "    for col, dtype in cols_dtypes.items():\n",
    "        df[col] = df[col].astype(dtype)"
   ]
  },
  {
   "cell_type": "code",
   "execution_count": 31,
   "id": "e9f2949f-b20b-44d8-8c75-e9c73902b4dd",
   "metadata": {},
   "outputs": [],
   "source": [
    "# Create dicts for columns to change in every table\n",
    "archive_data_dict = {'tweet_id':'string', 'timestamp':'datetime64[ns]'}\n",
    "img_pred_dict = {'tweet_id':'string'}\n",
    "api_data_dict = {'tweet_id':'string', 'timestamp':'datetime64[ns]'}\n",
    "\n",
    "# Change to correct dtypes\n",
    "ChangeDtype(archive_data_clean, archive_data_dict)\n",
    "ChangeDtype(img_pred_clean, img_pred_dict)\n",
    "ChangeDtype(api_data_clean, api_data_dict)"
   ]
  },
  {
   "cell_type": "markdown",
   "id": "bc39ab76-de2d-43d0-b647-63c69d30a46b",
   "metadata": {},
   "source": [
    "#### Test"
   ]
  },
  {
   "cell_type": "code",
   "execution_count": 32,
   "id": "db0b0eb0-7c09-4618-96a3-be6cc6686ce6",
   "metadata": {},
   "outputs": [],
   "source": [
    "assert archive_data_clean['tweet_id'].dtype == 'string'\n",
    "assert archive_data_clean['timestamp'].dtype == 'datetime64[ns]'\n",
    "assert img_pred_clean['tweet_id'].dtype == 'string'\n",
    "assert api_data_clean['timestamp'].dtype == 'datetime64[ns]'"
   ]
  },
  {
   "cell_type": "markdown",
   "id": "09273cf9-afe4-48f0-9e49-b1bd87721497",
   "metadata": {
    "tags": []
   },
   "source": [
    "### Issue 2 - `rating_denominator` column has invalid values in `archive_data` table"
   ]
  },
  {
   "cell_type": "markdown",
   "id": "c061df1e-de71-41ad-9c3d-9a6c17230918",
   "metadata": {
    "extensions": {
     "jupyter_dashboards": {
      "version": 1,
      "views": {
       "grid_default": {
        "hidden": true
       },
       "report_default": {
        "hidden": true
       }
      }
     }
    }
   },
   "source": [
    "#### Define:\n",
    "Replace invalid values in `rating_denominator` column with 10, using `replace` method."
   ]
  },
  {
   "cell_type": "markdown",
   "id": "d20bfcbf-9560-4a5b-9a5f-70299bf9b9da",
   "metadata": {},
   "source": [
    "#### Code"
   ]
  },
  {
   "cell_type": "code",
   "execution_count": 33,
   "id": "12fedf82-9da9-40b6-825b-ae2bf2adc24e",
   "metadata": {},
   "outputs": [],
   "source": [
    "# Values to be changed to 10\n",
    "archive_data_clean.loc[[313, 784, 1068, 1165, 1202, 1662, 2335],'rating_denominator'] = 10"
   ]
  },
  {
   "cell_type": "markdown",
   "id": "4309c332-5bc2-4646-b78d-59c82d7d5b26",
   "metadata": {},
   "source": [
    "#### Test"
   ]
  },
  {
   "cell_type": "code",
   "execution_count": 34,
   "id": "802f77d0-ba40-42a6-ad4a-04ffaa7e9dc4",
   "metadata": {},
   "outputs": [
    {
     "name": "stdout",
     "output_type": "stream",
     "text": [
      "10     2340\n",
      "80        2\n",
      "50        2\n",
      "15        1\n",
      "70        1\n",
      "7         1\n",
      "150       1\n",
      "170       1\n",
      "90        1\n",
      "40        1\n",
      "20        1\n",
      "130       1\n",
      "110       1\n",
      "16        1\n",
      "120       1\n",
      "Name: rating_denominator, dtype: int64\n"
     ]
    }
   ],
   "source": [
    "print(archive_data_clean['rating_denominator'].value_counts())"
   ]
  },
  {
   "cell_type": "markdown",
   "id": "fc165e66-b823-4c06-aed0-d0a83719e182",
   "metadata": {
    "tags": []
   },
   "source": [
    "### Issue 3 - `rating_numerator` column has invalid values in `archive_data` table"
   ]
  },
  {
   "cell_type": "markdown",
   "id": "e0541018-5a05-4a66-890c-61ec28e48867",
   "metadata": {
    "extensions": {
     "jupyter_dashboards": {
      "version": 1,
      "views": {
       "grid_default": {
        "hidden": true
       },
       "report_default": {
        "hidden": true
       }
      }
     }
    }
   },
   "source": [
    "#### Define:\n",
    "Replace invalid values in `rating_denominator` column with correct one in `text`, using `replace` method."
   ]
  },
  {
   "cell_type": "markdown",
   "id": "c5223c59-3cab-4834-962c-e577621f8b5f",
   "metadata": {},
   "source": [
    "#### Code"
   ]
  },
  {
   "cell_type": "code",
   "execution_count": 35,
   "id": "aad636bd-95b4-43f6-939c-d20d21dda106",
   "metadata": {},
   "outputs": [],
   "source": [
    "# Change `rating_numerator` values\n",
    "archive_data_clean.loc[2335,'rating_numerator'] = 9\n",
    "archive_data_clean.loc[1662,'rating_numerator'] = 10\n",
    "archive_data_clean.loc[1202,'rating_numerator'] = 11\n",
    "archive_data_clean.loc[[313,1165],'rating_numerator'] = 13\n",
    "archive_data_clean.loc[[784,1068],'rating_numerator'] = 14"
   ]
  },
  {
   "cell_type": "markdown",
   "id": "0719a0a7-3b90-4925-8f08-5d8d3137d8b5",
   "metadata": {},
   "source": [
    "#### Test"
   ]
  },
  {
   "cell_type": "code",
   "execution_count": 36,
   "id": "89703391-f5e4-485e-8517-401a881b37d3",
   "metadata": {},
   "outputs": [
    {
     "name": "stdout",
     "output_type": "stream",
     "text": [
      "12      558\n",
      "11      465\n",
      "10      462\n",
      "13      353\n",
      "9       157\n",
      "8       102\n",
      "14       56\n",
      "7        54\n",
      "5        37\n",
      "6        32\n",
      "3        19\n",
      "4        16\n",
      "2         9\n",
      "1         8\n",
      "75        2\n",
      "0         2\n",
      "15        2\n",
      "420       2\n",
      "45        1\n",
      "144       1\n",
      "17        1\n",
      "26        1\n",
      "20        1\n",
      "121       1\n",
      "143       1\n",
      "44        1\n",
      "60        1\n",
      "99        1\n",
      "80        1\n",
      "84        1\n",
      "204       1\n",
      "1776      1\n",
      "165       1\n",
      "666       1\n",
      "27        1\n",
      "182       1\n",
      "24        1\n",
      "88        1\n",
      "Name: rating_numerator, dtype: int64\n"
     ]
    }
   ],
   "source": [
    "print(archive_data_clean['rating_numerator'].value_counts())"
   ]
  },
  {
   "cell_type": "markdown",
   "id": "1ef1ba66-08f1-4ee9-892d-61b4a906d8fc",
   "metadata": {
    "tags": []
   },
   "source": [
    "### Issue 4 - Invalid values in `name` column of `archive_data` table"
   ]
  },
  {
   "cell_type": "markdown",
   "id": "db8f2282-8afd-4934-912c-ca1912e2c1db",
   "metadata": {
    "extensions": {
     "jupyter_dashboards": {
      "version": 1,
      "views": {
       "grid_default": {
        "hidden": true
       },
       "report_default": {
        "hidden": true
       }
      }
     }
    }
   },
   "source": [
    "#### Define:\n",
    "Replace invalid values in `name` column with `np.nan`, using `replace` method."
   ]
  },
  {
   "cell_type": "markdown",
   "id": "806211da-52c7-4ba6-a654-3ccb54386a74",
   "metadata": {},
   "source": [
    "#### Code"
   ]
  },
  {
   "cell_type": "code",
   "execution_count": 37,
   "id": "6cc7b875-33f1-44f2-b897-cd67d7917e71",
   "metadata": {},
   "outputs": [],
   "source": [
    "# Remove articles mistaken for the name\n",
    "archive_data_clean['name'] = archive_data_clean['name'].replace(['a', 'an', 'the'], np.nan)\n",
    "# Remove two additional invalid values\n",
    "archive_data_clean.loc[[775,1724], 'name'] = np.nan"
   ]
  },
  {
   "cell_type": "markdown",
   "id": "632cc065-f58d-4a78-a9b6-1d9856dc49b7",
   "metadata": {},
   "source": [
    "#### Test"
   ]
  },
  {
   "cell_type": "code",
   "execution_count": 38,
   "id": "202f1b2b-f365-4f7d-b92e-a36724cee65e",
   "metadata": {},
   "outputs": [],
   "source": [
    "assert archive_data_clean.query('name == \"a\" or name == \"an\" or name == \"the\"').shape[0] == 0\n",
    "assert archive_data_clean.loc[[775, 1724], 'name'].isna().all() == True"
   ]
  },
  {
   "cell_type": "markdown",
   "id": "a1477240-0977-4639-ad7e-c78b4fa707de",
   "metadata": {
    "tags": []
   },
   "source": [
    "### Issue 5 - Four columns: `doggo`, `floofer`, `pupper`, `puppo` represent one variable `dog_stage`"
   ]
  },
  {
   "cell_type": "markdown",
   "id": "77ca3e07-88a5-4614-b024-bae60d99c2ff",
   "metadata": {
    "extensions": {
     "jupyter_dashboards": {
      "version": 1,
      "views": {
       "grid_default": {
        "hidden": true
       },
       "report_default": {
        "hidden": true
       }
      }
     }
    },
    "tags": []
   },
   "source": [
    "#### Define:\n",
    "Replace `None` values with empty strings, then combine the four columns using string concatenation to create `dog_stage` column. Finally, drop the four columns and replace empty strings in `dog_stage` with `None`."
   ]
  },
  {
   "cell_type": "markdown",
   "id": "4935fdd7-3e07-4720-b9e9-b948daff072a",
   "metadata": {},
   "source": [
    "#### Code"
   ]
  },
  {
   "cell_type": "code",
   "execution_count": 39,
   "id": "beb9ca3a-1b0a-4909-92f3-a5f0ef0641d4",
   "metadata": {},
   "outputs": [],
   "source": [
    "# Convert `None` values to ``\n",
    "stage_cols = ['doggo', 'floofer', 'pupper', 'puppo']\n",
    "archive_data_clean[stage_cols] = archive_data_clean[stage_cols].replace('None', '')\n",
    "# Combine the four columns into `dog_stage` column\n",
    "archive_data_clean['dog_stage'] = archive_data_clean.doggo + archive_data_clean.floofer + archive_data_clean.pupper + archive_data_clean.puppo\n",
    "# Drop the four columns\n",
    "archive_data_clean.drop(stage_cols, axis=1, inplace=True)\n",
    "# Convert `` values to NaN in `dog_stage` column\n",
    "archive_data_clean['dog_stage']  = archive_data_clean['dog_stage'].replace('', 'None')"
   ]
  },
  {
   "cell_type": "markdown",
   "id": "286fce53-869b-4f6a-b7fc-aaec92ddc94c",
   "metadata": {},
   "source": [
    "#### Test"
   ]
  },
  {
   "cell_type": "code",
   "execution_count": 40,
   "id": "08d4c336-2b0c-42a4-b38f-3e93e7082277",
   "metadata": {},
   "outputs": [
    {
     "name": "stdout",
     "output_type": "stream",
     "text": [
      "None            1976\n",
      "pupper           245\n",
      "doggo             83\n",
      "puppo             29\n",
      "doggopupper       12\n",
      "floofer            9\n",
      "doggopuppo         1\n",
      "doggofloofer       1\n",
      "Name: dog_stage, dtype: int64\n"
     ]
    }
   ],
   "source": [
    "assert 'dog_stage' in archive_data_clean.columns\n",
    "assert archive_data_clean['dog_stage'].isna().sum() == 0\n",
    "print(archive_data_clean['dog_stage'].value_counts())"
   ]
  },
  {
   "cell_type": "markdown",
   "id": "890110f5-6470-4d6a-b46e-6099996d1660",
   "metadata": {
    "tags": []
   },
   "source": [
    "### Issue 6 - Rows with multiple `dog_stage` values in `archive_data` table"
   ]
  },
  {
   "cell_type": "markdown",
   "id": "dda62296-f917-42b7-a2c2-34e4350407f6",
   "metadata": {
    "extensions": {
     "jupyter_dashboards": {
      "version": 1,
      "views": {
       "grid_default": {
        "hidden": true
       },
       "report_default": {
        "hidden": true
       }
      }
     }
    }
   },
   "source": [
    "#### Define:\n",
    "Reassess the new `dog_stage` column, compare the values visually with `text`, and change them accordingly."
   ]
  },
  {
   "cell_type": "markdown",
   "id": "ab6e35d4-d8df-4bc8-8236-0f48201acd09",
   "metadata": {},
   "source": [
    "#### Code"
   ]
  },
  {
   "cell_type": "code",
   "execution_count": 41,
   "id": "65c34514-4f94-4c14-9d6f-f1d7a808f71c",
   "metadata": {},
   "outputs": [
    {
     "name": "stdout",
     "output_type": "stream",
     "text": [
      "191           Here's a puppo participating in the #ScienceMarch. Cleverly disguising her own doggo agenda. 13/10 would keep the planet habitable for https://t.co/cMhq16isel\n",
      "200     At first I thought this was a shy doggo, but it's actually a Rare Canadian Floofer Owl. Amateurs would confuse the two. 11/10 only send dogs https://t.co/TXdT3tmuYk\n",
      "460     This is Dido. She's playing the lead role in \"Pupper Stops to Catch Snow Before Resuming Shadow Box with Dried Apple.\" 13/10 (IG: didodoggo) https://t.co/m7isZrOBX7\n",
      "531                         Here we have Burke (pupper) and Dexter (doggo). Pupper wants to be exactly like doggo. Both 12/10 would pet at same time https://t.co/ANBpEYHaho\n",
      "565                                                                                                    Like doggo, like pupper version 2. Both 11/10 https://t.co/9IxWAXFqze\n",
      "575                         This is Bones. He's being haunted by another doggo of roughly the same size. 12/10 deep breaths pupper everything's fine https://t.co/55Dqe0SJNj\n",
      "705     This is Pinot. He's a sophisticated doggo. You can tell by the hat. Also pointier than your average pupper. Still 10/10 would pet cautiously https://t.co/f2wmLZTPHd\n",
      "733                                                                                                               Pupper butt 1, Doggo 0. Both 12/10 https://t.co/WQvcPEpH2u\n",
      "778                                                                                RT @dog_rates: Like father (doggo), like son (pupper). Both 12/10 https://t.co/pG2inLaOda\n",
      "822                                                               RT @dog_rates: This is just downright precious af. 12/10 for both pupper and doggo https://t.co/o5J479bZUC\n",
      "889                         Meet Maggie &amp; Lila. Maggie is the doggo, Lila is the pupper. They are sisters. Both 12/10 would pet at the same time https://t.co/MYwR4DQKll\n",
      "956                                 Please stop sending it pictures that don't even have a doggo or pupper in them. Churlish af. 5/10 neat couch tho https://t.co/u2c9c7qSg8\n",
      "1063                                                                             This is just downright precious af. 12/10 for both pupper and doggo https://t.co/o5J479bZUC\n",
      "1113                                                                                              Like father (doggo), like son (pupper). Both 12/10 https://t.co/pG2inLaOda\n",
      "Name: text, dtype: object\n"
     ]
    }
   ],
   "source": [
    "# Reassessment: review `text` for visual assessment of these rows\n",
    "print(archive_data_clean.query('dog_stage == \"doggopupper\" or dog_stage == \"doggopuppo\" or dog_stage == \"doggofloofer\"').text)"
   ]
  },
  {
   "cell_type": "code",
   "execution_count": 42,
   "id": "0a7ef2b4-16c6-40e5-ac08-ad4894c5ead1",
   "metadata": {},
   "outputs": [],
   "source": [
    "# Change inacurate 'dog_stage' values\n",
    "archive_data_clean.loc[191, 'dog_stage'] = 'puppo'\n",
    "archive_data_clean.loc[200,'dog_stage'] = 'floofer'\n",
    "archive_data_clean.loc[705,'dog_stage'] = 'doggo'\n",
    "archive_data_clean.loc[[460,575],'dog_stage'] = 'pupper'\n",
    "archive_data_clean.loc[956,'dog_stage'] = 'None'\n",
    "archive_data_clean.loc[[531,565,733,778,822,889,1063,1113],'dog_stage'] = 'pupper&doggo'"
   ]
  },
  {
   "cell_type": "markdown",
   "id": "9131aa54-c85b-4340-bf1d-fc0cce6cc252",
   "metadata": {},
   "source": [
    "#### Test"
   ]
  },
  {
   "cell_type": "code",
   "execution_count": 43,
   "id": "d23eba18-9c2d-4149-ba48-73064e25c975",
   "metadata": {},
   "outputs": [
    {
     "name": "stdout",
     "output_type": "stream",
     "text": [
      "None            1977\n",
      "pupper           247\n",
      "doggo             84\n",
      "puppo             30\n",
      "floofer           10\n",
      "pupper&doggo       8\n",
      "Name: dog_stage, dtype: int64\n"
     ]
    }
   ],
   "source": [
    "print(archive_data_clean.dog_stage.value_counts())"
   ]
  },
  {
   "cell_type": "markdown",
   "id": "03c7e4c1-15b3-4306-b2b1-fe776a870cfd",
   "metadata": {
    "tags": []
   },
   "source": [
    "### Issue 7 - `archive_data` table contains replies"
   ]
  },
  {
   "cell_type": "markdown",
   "id": "1f9d1180-284a-4943-9819-7fc4023db8f5",
   "metadata": {
    "extensions": {
     "jupyter_dashboards": {
      "version": 1,
      "views": {
       "grid_default": {
        "hidden": true
       },
       "report_default": {
        "hidden": true
       }
      }
     }
    }
   },
   "source": [
    "#### Define:\n",
    "Remove rows with non-null values in `in_reply_to_status_id` and `in_reply_to_user_id` columns."
   ]
  },
  {
   "cell_type": "markdown",
   "id": "bc8ab750-caf3-47f5-b4ca-6a12ccd14903",
   "metadata": {},
   "source": [
    "#### Code"
   ]
  },
  {
   "cell_type": "code",
   "execution_count": 44,
   "id": "10c8150b-37bf-425b-969c-9c4b83a35b7a",
   "metadata": {},
   "outputs": [],
   "source": [
    "# Keep only rows that are not replies\n",
    "archive_data_clean = archive_data_clean[pd.isnull(archive_data_clean['in_reply_to_status_id'])]\n",
    "archive_data_clean = archive_data_clean[pd.isnull(archive_data_clean['in_reply_to_user_id'])]"
   ]
  },
  {
   "cell_type": "markdown",
   "id": "b645a091-71be-49e1-8af3-eef419477f9d",
   "metadata": {},
   "source": [
    "#### Test"
   ]
  },
  {
   "cell_type": "code",
   "execution_count": 45,
   "id": "799262d3-f02c-4fcf-a80b-42c182c9d91e",
   "metadata": {},
   "outputs": [],
   "source": [
    "assert archive_data_clean['in_reply_to_status_id'].isna().sum() == archive_data_clean.shape[0]\n",
    "assert archive_data_clean['in_reply_to_user_id'].isna().sum() == archive_data_clean.shape[0]"
   ]
  },
  {
   "cell_type": "markdown",
   "id": "1a4616d9-bff5-46a9-857a-4f29b353b168",
   "metadata": {
    "tags": []
   },
   "source": [
    "### Issue 8 - `archive_data` table contains retweets"
   ]
  },
  {
   "cell_type": "markdown",
   "id": "23763cd0-f590-4610-ba18-b24e29c5d527",
   "metadata": {
    "extensions": {
     "jupyter_dashboards": {
      "version": 1,
      "views": {
       "grid_default": {
        "hidden": true
       },
       "report_default": {
        "hidden": true
       }
      }
     }
    },
    "tags": []
   },
   "source": [
    "#### Define:\n",
    "Remove rows with non-null values in `retweeted_status_id`, `retweeted_status_user_id`, and `retweeted_status_timestamp` columns."
   ]
  },
  {
   "cell_type": "markdown",
   "id": "c710db25-81c8-4a27-8ff9-027b16a253a9",
   "metadata": {},
   "source": [
    "#### Code"
   ]
  },
  {
   "cell_type": "code",
   "execution_count": 46,
   "id": "2c9e2ecb-b99b-4a82-b4cb-c40aa9065fe4",
   "metadata": {},
   "outputs": [],
   "source": [
    "# Keep only rows that are not retweets\n",
    "archive_data_clean = archive_data_clean[pd.isnull(archive_data_clean['retweeted_status_id'])]\n",
    "archive_data_clean = archive_data_clean[pd.isnull(archive_data_clean['retweeted_status_user_id'])]\n",
    "archive_data_clean = archive_data_clean[pd.isnull(archive_data_clean['retweeted_status_timestamp'])]"
   ]
  },
  {
   "cell_type": "markdown",
   "id": "3c52dc42-88e7-49b3-8fc6-362a2b7837c0",
   "metadata": {},
   "source": [
    "#### Test"
   ]
  },
  {
   "cell_type": "code",
   "execution_count": 47,
   "id": "e5960a2c-114f-455e-b62e-746474834018",
   "metadata": {},
   "outputs": [],
   "source": [
    "assert archive_data_clean['retweeted_status_id'].isna().sum() == archive_data_clean.shape[0]\n",
    "assert archive_data_clean['retweeted_status_user_id'].isna().sum() == archive_data_clean.shape[0]\n",
    "assert archive_data_clean['retweeted_status_timestamp'].isna().sum() == archive_data_clean.shape[0]"
   ]
  },
  {
   "cell_type": "markdown",
   "id": "fbda9b2f-cc6d-48b5-92e4-76c75f197ece",
   "metadata": {},
   "source": [
    "### Issue 9 - Reply and retweet data columns are not needed"
   ]
  },
  {
   "cell_type": "markdown",
   "id": "3c61b9b8-1721-4b72-9330-58d9e6e3f43e",
   "metadata": {},
   "source": [
    "#### Define:\n",
    "Drop `in_reply_to_status_id`, `in_reply_to_user_id`, `retweeted_status_id`, `retweeted_status_user_id`, and `retweeted_status_timestamp` columns from `archive_data_clean` DataFrame; since they are now all null values and the analysis require only the original tweets."
   ]
  },
  {
   "cell_type": "markdown",
   "id": "61881217-af5e-48d8-a36f-0c3520f2f457",
   "metadata": {},
   "source": [
    "#### Code"
   ]
  },
  {
   "cell_type": "code",
   "execution_count": 48,
   "id": "97151d4c-3325-40f6-8ee6-34246339921a",
   "metadata": {},
   "outputs": [],
   "source": [
    "# drop reply and retweet columns\n",
    "del_cols = ['in_reply_to_status_id','in_reply_to_user_id', 'retweeted_status_id','retweeted_status_user_id', 'retweeted_status_timestamp']\n",
    "archive_data_clean.drop(del_cols, axis=1, inplace=True)"
   ]
  },
  {
   "cell_type": "markdown",
   "id": "22fc6810-e1ce-4a99-b396-27236769907f",
   "metadata": {
    "tags": []
   },
   "source": [
    "#### Test"
   ]
  },
  {
   "cell_type": "code",
   "execution_count": 49,
   "id": "54bf54bd-6f95-487d-916c-0942b57f12bf",
   "metadata": {},
   "outputs": [],
   "source": [
    "for col in del_cols:\n",
    "    assert col not in archive_data_clean.columns"
   ]
  },
  {
   "cell_type": "markdown",
   "id": "8586bd30-db96-49fa-b6c9-dc4bfa53a8f6",
   "metadata": {},
   "source": [
    "### Issue 10 - `api_data` should be part of `archive_data` table"
   ]
  },
  {
   "cell_type": "markdown",
   "id": "51334ccf-40a4-4a3b-baf8-9df0dbdb1c82",
   "metadata": {},
   "source": [
    "#### Define:\n",
    "Merge `retweet_count`, `reply_count`, `like_count`, `quote_count` columns to `archive_data` table using `merge` function with an inner join. This will update the DataFrame with Twitter API data."
   ]
  },
  {
   "cell_type": "markdown",
   "id": "b0dcf134-4257-477c-b227-85439e425ad1",
   "metadata": {},
   "source": [
    "#### Code"
   ]
  },
  {
   "cell_type": "code",
   "execution_count": 50,
   "id": "dd10121d-663f-4361-9e30-afcbf451f28e",
   "metadata": {},
   "outputs": [],
   "source": [
    "# Remove any possible white spaces in 'tweet_id' columns\n",
    "archive_data_clean['tweet_id'] = archive_data_clean['tweet_id'].str.strip()\n",
    "api_data_clean['tweet_id'] = api_data_clean['tweet_id'].str.strip()\n",
    "img_pred_clean['tweet_id'] = img_pred_clean['tweet_id'].str.strip()"
   ]
  },
  {
   "cell_type": "code",
   "execution_count": 51,
   "id": "bd99c399-cdab-435e-948f-3bff48c6ba36",
   "metadata": {
    "tags": []
   },
   "outputs": [],
   "source": [
    "# Inner join archive_data and api_data\n",
    "master_df = archive_data_clean.merge(api_data_clean, on=['tweet_id', 'timestamp', 'text'])"
   ]
  },
  {
   "cell_type": "markdown",
   "id": "d78d1d23-a00f-4b51-bce7-823736e1112e",
   "metadata": {},
   "source": [
    "#### Test"
   ]
  },
  {
   "cell_type": "code",
   "execution_count": 52,
   "id": "b3ef528e-5431-42b4-906f-ac86a0cc7783",
   "metadata": {},
   "outputs": [
    {
     "name": "stdout",
     "output_type": "stream",
     "text": [
      "<class 'pandas.core.frame.DataFrame'>\n",
      "Int64Index: 2089 entries, 0 to 2088\n",
      "Data columns (total 13 columns):\n",
      " #   Column              Non-Null Count  Dtype         \n",
      "---  ------              --------------  -----         \n",
      " 0   tweet_id            2089 non-null   string        \n",
      " 1   timestamp           2089 non-null   datetime64[ns]\n",
      " 2   source              2089 non-null   object        \n",
      " 3   text                2089 non-null   object        \n",
      " 4   expanded_urls       2086 non-null   object        \n",
      " 5   rating_numerator    2089 non-null   int64         \n",
      " 6   rating_denominator  2089 non-null   int64         \n",
      " 7   name                2018 non-null   object        \n",
      " 8   dog_stage           2089 non-null   object        \n",
      " 9   retweet_count       2089 non-null   int64         \n",
      " 10  reply_count         2089 non-null   int64         \n",
      " 11  like_count          2089 non-null   int64         \n",
      " 12  quote_count         2089 non-null   int64         \n",
      "dtypes: datetime64[ns](1), int64(6), object(5), string(1)\n",
      "memory usage: 228.5+ KB\n",
      "None\n"
     ]
    }
   ],
   "source": [
    "print(master_df.info())"
   ]
  },
  {
   "cell_type": "markdown",
   "id": "3b22201f-156f-44c7-961a-43ea507e95c0",
   "metadata": {},
   "source": [
    "### Issue 11 - `img_pred` should be part of `archive_data` table"
   ]
  },
  {
   "cell_type": "markdown",
   "id": "545db3c8-e058-4316-9399-71886689216a",
   "metadata": {},
   "source": [
    "#### Define:\n",
    "Merge `img_pred` columns to `archive_data` table using `merge` function with an inner join, leaving only tweets with images. ***This step will also remove rows with missing values in `expanded_urls`***."
   ]
  },
  {
   "cell_type": "markdown",
   "id": "4e87c806-4465-42a5-9112-ea6902da9b6e",
   "metadata": {},
   "source": [
    "#### Code"
   ]
  },
  {
   "cell_type": "code",
   "execution_count": 53,
   "id": "87ac7467-c2ed-4e75-88a2-7f1d215eb28c",
   "metadata": {},
   "outputs": [],
   "source": [
    "# Inner join master_df and img_pred\n",
    "master_df = master_df.merge(img_pred_clean, on='tweet_id')"
   ]
  },
  {
   "cell_type": "markdown",
   "id": "ae393d62-102b-4037-8227-9696dbf97482",
   "metadata": {},
   "source": [
    "#### Test"
   ]
  },
  {
   "cell_type": "code",
   "execution_count": 54,
   "id": "5feeb4b3-becd-4787-91b7-ae0529264ff5",
   "metadata": {},
   "outputs": [
    {
     "name": "stdout",
     "output_type": "stream",
     "text": [
      "<class 'pandas.core.frame.DataFrame'>\n",
      "Int64Index: 1963 entries, 0 to 1962\n",
      "Data columns (total 24 columns):\n",
      " #   Column              Non-Null Count  Dtype         \n",
      "---  ------              --------------  -----         \n",
      " 0   tweet_id            1963 non-null   string        \n",
      " 1   timestamp           1963 non-null   datetime64[ns]\n",
      " 2   source              1963 non-null   object        \n",
      " 3   text                1963 non-null   object        \n",
      " 4   expanded_urls       1963 non-null   object        \n",
      " 5   rating_numerator    1963 non-null   int64         \n",
      " 6   rating_denominator  1963 non-null   int64         \n",
      " 7   name                1893 non-null   object        \n",
      " 8   dog_stage           1963 non-null   object        \n",
      " 9   retweet_count       1963 non-null   int64         \n",
      " 10  reply_count         1963 non-null   int64         \n",
      " 11  like_count          1963 non-null   int64         \n",
      " 12  quote_count         1963 non-null   int64         \n",
      " 13  jpg_url             1963 non-null   object        \n",
      " 14  img_num             1963 non-null   int64         \n",
      " 15  p1                  1963 non-null   object        \n",
      " 16  p1_conf             1963 non-null   float64       \n",
      " 17  p1_dog              1963 non-null   bool          \n",
      " 18  p2                  1963 non-null   object        \n",
      " 19  p2_conf             1963 non-null   float64       \n",
      " 20  p2_dog              1963 non-null   bool          \n",
      " 21  p3                  1963 non-null   object        \n",
      " 22  p3_conf             1963 non-null   float64       \n",
      " 23  p3_dog              1963 non-null   bool          \n",
      "dtypes: bool(3), datetime64[ns](1), float64(3), int64(7), object(9), string(1)\n",
      "memory usage: 343.1+ KB\n",
      "None\n"
     ]
    }
   ],
   "source": [
    "print(master_df.info())"
   ]
  },
  {
   "cell_type": "markdown",
   "id": "def23df0-610f-41aa-bf74-e9e618b9c1eb",
   "metadata": {},
   "source": [
    "## 4. Reassess Data"
   ]
  },
  {
   "cell_type": "code",
   "execution_count": 55,
   "id": "5d49ade0-b711-4ed4-bb84-3b9b43bc46b4",
   "metadata": {},
   "outputs": [
    {
     "data": {
      "text/html": [
       "<div>\n",
       "<style scoped>\n",
       "    .dataframe tbody tr th:only-of-type {\n",
       "        vertical-align: middle;\n",
       "    }\n",
       "\n",
       "    .dataframe tbody tr th {\n",
       "        vertical-align: top;\n",
       "    }\n",
       "\n",
       "    .dataframe thead th {\n",
       "        text-align: right;\n",
       "    }\n",
       "</style>\n",
       "<table border=\"1\" class=\"dataframe\">\n",
       "  <thead>\n",
       "    <tr style=\"text-align: right;\">\n",
       "      <th></th>\n",
       "      <th>tweet_id</th>\n",
       "      <th>timestamp</th>\n",
       "      <th>source</th>\n",
       "      <th>text</th>\n",
       "      <th>expanded_urls</th>\n",
       "      <th>rating_numerator</th>\n",
       "      <th>rating_denominator</th>\n",
       "      <th>name</th>\n",
       "      <th>dog_stage</th>\n",
       "      <th>retweet_count</th>\n",
       "      <th>...</th>\n",
       "      <th>img_num</th>\n",
       "      <th>p1</th>\n",
       "      <th>p1_conf</th>\n",
       "      <th>p1_dog</th>\n",
       "      <th>p2</th>\n",
       "      <th>p2_conf</th>\n",
       "      <th>p2_dog</th>\n",
       "      <th>p3</th>\n",
       "      <th>p3_conf</th>\n",
       "      <th>p3_dog</th>\n",
       "    </tr>\n",
       "  </thead>\n",
       "  <tbody>\n",
       "    <tr>\n",
       "      <th>0</th>\n",
       "      <td>892420643555336193</td>\n",
       "      <td>2017-08-01 16:23:56</td>\n",
       "      <td>&lt;a href=\"http://twitter.com/download/iphone\" rel=\"nofollow\"&gt;Twitter for iPhone&lt;/a&gt;</td>\n",
       "      <td>This is Phineas. He's a mystical boy. Only ever appears in the hole of a donut. 13/10 https://t.co/MgUWQ76dJU</td>\n",
       "      <td>https://twitter.com/dog_rates/status/892420643555336193/photo/1</td>\n",
       "      <td>13</td>\n",
       "      <td>10</td>\n",
       "      <td>Phineas</td>\n",
       "      <td>None</td>\n",
       "      <td>6822</td>\n",
       "      <td>...</td>\n",
       "      <td>1</td>\n",
       "      <td>orange</td>\n",
       "      <td>0.097049</td>\n",
       "      <td>False</td>\n",
       "      <td>bagel</td>\n",
       "      <td>0.085851</td>\n",
       "      <td>False</td>\n",
       "      <td>banana</td>\n",
       "      <td>0.076110</td>\n",
       "      <td>False</td>\n",
       "    </tr>\n",
       "    <tr>\n",
       "      <th>1</th>\n",
       "      <td>892177421306343426</td>\n",
       "      <td>2017-08-01 00:17:27</td>\n",
       "      <td>&lt;a href=\"http://twitter.com/download/iphone\" rel=\"nofollow\"&gt;Twitter for iPhone&lt;/a&gt;</td>\n",
       "      <td>This is Tilly. She's just checking pup on you. Hopes you're doing ok. If not, she's available for pats, snugs, boops, the whole bit. 13/10 https://t.co/0Xxu71qeIV</td>\n",
       "      <td>https://twitter.com/dog_rates/status/892177421306343426/photo/1</td>\n",
       "      <td>13</td>\n",
       "      <td>10</td>\n",
       "      <td>Tilly</td>\n",
       "      <td>None</td>\n",
       "      <td>5136</td>\n",
       "      <td>...</td>\n",
       "      <td>1</td>\n",
       "      <td>Chihuahua</td>\n",
       "      <td>0.323581</td>\n",
       "      <td>True</td>\n",
       "      <td>Pekinese</td>\n",
       "      <td>0.090647</td>\n",
       "      <td>True</td>\n",
       "      <td>papillon</td>\n",
       "      <td>0.068957</td>\n",
       "      <td>True</td>\n",
       "    </tr>\n",
       "  </tbody>\n",
       "</table>\n",
       "<p>2 rows × 24 columns</p>\n",
       "</div>"
      ],
      "text/plain": [
       "             tweet_id           timestamp  \\\n",
       "0  892420643555336193 2017-08-01 16:23:56   \n",
       "1  892177421306343426 2017-08-01 00:17:27   \n",
       "\n",
       "                                                                               source  \\\n",
       "0  <a href=\"http://twitter.com/download/iphone\" rel=\"nofollow\">Twitter for iPhone</a>   \n",
       "1  <a href=\"http://twitter.com/download/iphone\" rel=\"nofollow\">Twitter for iPhone</a>   \n",
       "\n",
       "                                                                                                                                                                 text  \\\n",
       "0                                                       This is Phineas. He's a mystical boy. Only ever appears in the hole of a donut. 13/10 https://t.co/MgUWQ76dJU   \n",
       "1  This is Tilly. She's just checking pup on you. Hopes you're doing ok. If not, she's available for pats, snugs, boops, the whole bit. 13/10 https://t.co/0Xxu71qeIV   \n",
       "\n",
       "                                                     expanded_urls  \\\n",
       "0  https://twitter.com/dog_rates/status/892420643555336193/photo/1   \n",
       "1  https://twitter.com/dog_rates/status/892177421306343426/photo/1   \n",
       "\n",
       "   rating_numerator  rating_denominator     name dog_stage  retweet_count  \\\n",
       "0                13                  10  Phineas      None           6822   \n",
       "1                13                  10    Tilly      None           5136   \n",
       "\n",
       "   ...  img_num         p1   p1_conf p1_dog        p2   p2_conf  p2_dog  \\\n",
       "0  ...        1     orange  0.097049  False     bagel  0.085851   False   \n",
       "1  ...        1  Chihuahua  0.323581   True  Pekinese  0.090647    True   \n",
       "\n",
       "         p3   p3_conf  p3_dog  \n",
       "0    banana  0.076110   False  \n",
       "1  papillon  0.068957    True  \n",
       "\n",
       "[2 rows x 24 columns]"
      ]
     },
     "metadata": {},
     "output_type": "display_data"
    }
   ],
   "source": [
    "display(master_df.head(2))"
   ]
  },
  {
   "cell_type": "code",
   "execution_count": 56,
   "id": "d2096a7b-553c-4f49-ae36-db02d86efb7a",
   "metadata": {},
   "outputs": [
    {
     "name": "stdout",
     "output_type": "stream",
     "text": [
      "<class 'pandas.core.frame.DataFrame'>\n",
      "Int64Index: 1963 entries, 0 to 1962\n",
      "Data columns (total 24 columns):\n",
      " #   Column              Non-Null Count  Dtype         \n",
      "---  ------              --------------  -----         \n",
      " 0   tweet_id            1963 non-null   string        \n",
      " 1   timestamp           1963 non-null   datetime64[ns]\n",
      " 2   source              1963 non-null   object        \n",
      " 3   text                1963 non-null   object        \n",
      " 4   expanded_urls       1963 non-null   object        \n",
      " 5   rating_numerator    1963 non-null   int64         \n",
      " 6   rating_denominator  1963 non-null   int64         \n",
      " 7   name                1893 non-null   object        \n",
      " 8   dog_stage           1963 non-null   object        \n",
      " 9   retweet_count       1963 non-null   int64         \n",
      " 10  reply_count         1963 non-null   int64         \n",
      " 11  like_count          1963 non-null   int64         \n",
      " 12  quote_count         1963 non-null   int64         \n",
      " 13  jpg_url             1963 non-null   object        \n",
      " 14  img_num             1963 non-null   int64         \n",
      " 15  p1                  1963 non-null   object        \n",
      " 16  p1_conf             1963 non-null   float64       \n",
      " 17  p1_dog              1963 non-null   bool          \n",
      " 18  p2                  1963 non-null   object        \n",
      " 19  p2_conf             1963 non-null   float64       \n",
      " 20  p2_dog              1963 non-null   bool          \n",
      " 21  p3                  1963 non-null   object        \n",
      " 22  p3_conf             1963 non-null   float64       \n",
      " 23  p3_dog              1963 non-null   bool          \n",
      "dtypes: bool(3), datetime64[ns](1), float64(3), int64(7), object(9), string(1)\n",
      "memory usage: 343.1+ KB\n",
      "None\n"
     ]
    }
   ],
   "source": [
    "print(master_df.info())"
   ]
  },
  {
   "cell_type": "code",
   "execution_count": 57,
   "id": "38c0f2b1-4604-40ea-864a-29e888ee2a4a",
   "metadata": {},
   "outputs": [
    {
     "name": "stdout",
     "output_type": "stream",
     "text": [
      "tweet_id               0\n",
      "timestamp              0\n",
      "source                 0\n",
      "text                   0\n",
      "expanded_urls          0\n",
      "rating_numerator       0\n",
      "rating_denominator     0\n",
      "name                  70\n",
      "dog_stage              0\n",
      "retweet_count          0\n",
      "reply_count            0\n",
      "like_count             0\n",
      "quote_count            0\n",
      "jpg_url                0\n",
      "img_num                0\n",
      "p1                     0\n",
      "p1_conf                0\n",
      "p1_dog                 0\n",
      "p2                     0\n",
      "p2_conf                0\n",
      "p2_dog                 0\n",
      "p3                     0\n",
      "p3_conf                0\n",
      "p3_dog                 0\n",
      "dtype: int64\n"
     ]
    }
   ],
   "source": [
    "print(master_df.isnull().sum())"
   ]
  },
  {
   "cell_type": "markdown",
   "id": "51f70685-0a25-412f-a8f6-8ead4a45448d",
   "metadata": {},
   "source": [
    "Note that missing values in 'name' column are the result of step 4 in cleaning data."
   ]
  },
  {
   "cell_type": "code",
   "execution_count": 58,
   "id": "816a43cb-cda7-4efb-b2bf-aa2dbd34eb84",
   "metadata": {},
   "outputs": [
    {
     "name": "stdout",
     "output_type": "stream",
     "text": [
      "0\n"
     ]
    }
   ],
   "source": [
    "print(master_df.duplicated().sum())"
   ]
  },
  {
   "cell_type": "code",
   "execution_count": 59,
   "id": "8704fd01-dc30-43c5-bb29-047822833226",
   "metadata": {},
   "outputs": [
    {
     "data": {
      "text/html": [
       "<div>\n",
       "<style scoped>\n",
       "    .dataframe tbody tr th:only-of-type {\n",
       "        vertical-align: middle;\n",
       "    }\n",
       "\n",
       "    .dataframe tbody tr th {\n",
       "        vertical-align: top;\n",
       "    }\n",
       "\n",
       "    .dataframe thead th {\n",
       "        text-align: right;\n",
       "    }\n",
       "</style>\n",
       "<table border=\"1\" class=\"dataframe\">\n",
       "  <thead>\n",
       "    <tr style=\"text-align: right;\">\n",
       "      <th></th>\n",
       "      <th>rating_numerator</th>\n",
       "      <th>rating_denominator</th>\n",
       "      <th>retweet_count</th>\n",
       "      <th>reply_count</th>\n",
       "      <th>like_count</th>\n",
       "      <th>quote_count</th>\n",
       "      <th>img_num</th>\n",
       "      <th>p1_conf</th>\n",
       "      <th>p2_conf</th>\n",
       "      <th>p3_conf</th>\n",
       "    </tr>\n",
       "  </thead>\n",
       "  <tbody>\n",
       "    <tr>\n",
       "      <th>count</th>\n",
       "      <td>1963.000000</td>\n",
       "      <td>1963.000000</td>\n",
       "      <td>1963.000000</td>\n",
       "      <td>1963.00000</td>\n",
       "      <td>1963.000000</td>\n",
       "      <td>1963.000000</td>\n",
       "      <td>1963.000000</td>\n",
       "      <td>1963.000000</td>\n",
       "      <td>1.963000e+03</td>\n",
       "      <td>1.963000e+03</td>\n",
       "    </tr>\n",
       "    <tr>\n",
       "      <th>mean</th>\n",
       "      <td>12.217015</td>\n",
       "      <td>10.456954</td>\n",
       "      <td>2197.053490</td>\n",
       "      <td>44.29241</td>\n",
       "      <td>7492.294447</td>\n",
       "      <td>78.190015</td>\n",
       "      <td>1.202241</td>\n",
       "      <td>0.594066</td>\n",
       "      <td>1.346523e-01</td>\n",
       "      <td>6.026787e-02</td>\n",
       "    </tr>\n",
       "    <tr>\n",
       "      <th>std</th>\n",
       "      <td>41.708747</td>\n",
       "      <td>6.802856</td>\n",
       "      <td>3929.438088</td>\n",
       "      <td>71.61844</td>\n",
       "      <td>11038.795858</td>\n",
       "      <td>229.759900</td>\n",
       "      <td>0.559739</td>\n",
       "      <td>0.272135</td>\n",
       "      <td>1.009671e-01</td>\n",
       "      <td>5.097105e-02</td>\n",
       "    </tr>\n",
       "    <tr>\n",
       "      <th>min</th>\n",
       "      <td>0.000000</td>\n",
       "      <td>7.000000</td>\n",
       "      <td>11.000000</td>\n",
       "      <td>0.00000</td>\n",
       "      <td>62.000000</td>\n",
       "      <td>0.000000</td>\n",
       "      <td>1.000000</td>\n",
       "      <td>0.044333</td>\n",
       "      <td>1.011300e-08</td>\n",
       "      <td>1.740170e-10</td>\n",
       "    </tr>\n",
       "    <tr>\n",
       "      <th>25%</th>\n",
       "      <td>10.000000</td>\n",
       "      <td>10.000000</td>\n",
       "      <td>486.000000</td>\n",
       "      <td>12.00000</td>\n",
       "      <td>1606.000000</td>\n",
       "      <td>0.000000</td>\n",
       "      <td>1.000000</td>\n",
       "      <td>0.362880</td>\n",
       "      <td>5.352315e-02</td>\n",
       "      <td>1.619495e-02</td>\n",
       "    </tr>\n",
       "    <tr>\n",
       "      <th>50%</th>\n",
       "      <td>11.000000</td>\n",
       "      <td>10.000000</td>\n",
       "      <td>1057.000000</td>\n",
       "      <td>25.00000</td>\n",
       "      <td>3380.000000</td>\n",
       "      <td>1.000000</td>\n",
       "      <td>1.000000</td>\n",
       "      <td>0.587372</td>\n",
       "      <td>1.174020e-01</td>\n",
       "      <td>4.947150e-02</td>\n",
       "    </tr>\n",
       "    <tr>\n",
       "      <th>75%</th>\n",
       "      <td>12.000000</td>\n",
       "      <td>10.000000</td>\n",
       "      <td>2511.500000</td>\n",
       "      <td>50.00000</td>\n",
       "      <td>9324.000000</td>\n",
       "      <td>81.500000</td>\n",
       "      <td>1.000000</td>\n",
       "      <td>0.847139</td>\n",
       "      <td>1.955655e-01</td>\n",
       "      <td>9.158675e-02</td>\n",
       "    </tr>\n",
       "    <tr>\n",
       "      <th>max</th>\n",
       "      <td>1776.000000</td>\n",
       "      <td>170.000000</td>\n",
       "      <td>68821.000000</td>\n",
       "      <td>1097.00000</td>\n",
       "      <td>140568.000000</td>\n",
       "      <td>4352.000000</td>\n",
       "      <td>4.000000</td>\n",
       "      <td>1.000000</td>\n",
       "      <td>4.880140e-01</td>\n",
       "      <td>2.734190e-01</td>\n",
       "    </tr>\n",
       "  </tbody>\n",
       "</table>\n",
       "</div>"
      ],
      "text/plain": [
       "       rating_numerator  rating_denominator  retweet_count  reply_count  \\\n",
       "count       1963.000000         1963.000000    1963.000000   1963.00000   \n",
       "mean          12.217015           10.456954    2197.053490     44.29241   \n",
       "std           41.708747            6.802856    3929.438088     71.61844   \n",
       "min            0.000000            7.000000      11.000000      0.00000   \n",
       "25%           10.000000           10.000000     486.000000     12.00000   \n",
       "50%           11.000000           10.000000    1057.000000     25.00000   \n",
       "75%           12.000000           10.000000    2511.500000     50.00000   \n",
       "max         1776.000000          170.000000   68821.000000   1097.00000   \n",
       "\n",
       "          like_count  quote_count      img_num      p1_conf       p2_conf  \\\n",
       "count    1963.000000  1963.000000  1963.000000  1963.000000  1.963000e+03   \n",
       "mean     7492.294447    78.190015     1.202241     0.594066  1.346523e-01   \n",
       "std     11038.795858   229.759900     0.559739     0.272135  1.009671e-01   \n",
       "min        62.000000     0.000000     1.000000     0.044333  1.011300e-08   \n",
       "25%      1606.000000     0.000000     1.000000     0.362880  5.352315e-02   \n",
       "50%      3380.000000     1.000000     1.000000     0.587372  1.174020e-01   \n",
       "75%      9324.000000    81.500000     1.000000     0.847139  1.955655e-01   \n",
       "max    140568.000000  4352.000000     4.000000     1.000000  4.880140e-01   \n",
       "\n",
       "            p3_conf  \n",
       "count  1.963000e+03  \n",
       "mean   6.026787e-02  \n",
       "std    5.097105e-02  \n",
       "min    1.740170e-10  \n",
       "25%    1.619495e-02  \n",
       "50%    4.947150e-02  \n",
       "75%    9.158675e-02  \n",
       "max    2.734190e-01  "
      ]
     },
     "metadata": {},
     "output_type": "display_data"
    }
   ],
   "source": [
    "display(master_df.describe())"
   ]
  },
  {
   "cell_type": "markdown",
   "id": "136cb318-7eb7-4432-b288-3ce998382ab7",
   "metadata": {
    "id": "F42urHuzttjF"
   },
   "source": [
    "## 5. Update Data Store\n",
    "\n",
    "Save gathered, assessed, and cleaned master dataset to a CSV file named `\"twitter_master.csv\"`."
   ]
  },
  {
   "cell_type": "code",
   "execution_count": 60,
   "id": "61b77df3-dbb6-446b-976f-5854b31e6f61",
   "metadata": {
    "executionCancelledAt": 1679698615552,
    "id": "V3uay7EJUV_L"
   },
   "outputs": [],
   "source": [
    "master_df.to_csv('./datasets/twitter_master.csv', index=False)"
   ]
  },
  {
   "attachments": {},
   "cell_type": "markdown",
   "id": "8b7ae433-4f2e-4ee9-949a-b27d2d29c6aa",
   "metadata": {
    "id": "cGy_yddGtzhM"
   },
   "source": [
    "## 6. Answer the research question\n",
    "\n",
    "The analysis in this section will be based on `master_df` Dataframe, which is now clean and in tidy format.\n",
    "\n",
    "### **6.1:** Time trends of WeRateDogs account activity\n",
    "\n",
    "The first point of this analysis is WeRateDogs account activity overtime.\n",
    "\n",
    "#### Number of tweets per month"
   ]
  },
  {
   "cell_type": "code",
   "execution_count": 61,
   "id": "cff994d1-651b-41a0-be1a-6c369d6b0ee4",
   "metadata": {
    "executionCancelledAt": 1679698615621,
    "id": "Lkw3rW9kZmOm"
   },
   "outputs": [
    {
     "data": {
      "image/png": "[encoded data removed]",
      "text/plain": [
       "<Figure size 1600x600 with 1 Axes>"
      ]
     },
     "metadata": {},
     "output_type": "display_data"
    }
   ],
   "source": [
    "# Tweets number per month\n",
    "rcParams['figure.figsize'] = 16,6\n",
    "base_color = sns.color_palette()[0]\n",
    "sns.countplot(data=master_df, x=master_df['timestamp'].sort_values().dt.to_period('M'), color = base_color);\n",
    "plt.title('Tweets per month', fontsize=20, y=1.015)\n",
    "plt.xlabel('Year - Month', labelpad=10, fontsize=16)\n",
    "plt.ylabel('Tweets count', labelpad=10, fontsize=16)\n",
    "# Use xticks to rotate the category labels (not axes) counter-clockwise\n",
    "plt.xticks(rotation=90)\n",
    "# Save to a file\n",
    "plt.savefig('./img/tweets_per_month.png')\n",
    "# Show the plot\n",
    "plt.show();"
   ]
  },
  {
   "attachments": {},
   "cell_type": "markdown",
   "id": "55853e88-2d59-4b00-956f-939f75b9e170",
   "metadata": {},
   "source": [
    "This account was very active in the first two months of the dataset, activity dropped noticeably starting from the second quarter of 2016.\n",
    "\n",
    "#### Active tweeting hours\n",
    "\n",
    "**What about tweeting hours? Is this account more active in certain times of the day?**"
   ]
  },
  {
   "cell_type": "code",
   "execution_count": 62,
   "id": "bfc46ecc-e300-44a2-87dc-ae08e93b54ae",
   "metadata": {},
   "outputs": [
    {
     "data": {
      "image/png": "[encoded data removed]",
      "text/plain": [
       "<Figure size 1600x600 with 1 Axes>"
      ]
     },
     "metadata": {},
     "output_type": "display_data"
    }
   ],
   "source": [
    "# Hours with most tweets\n",
    "tweets_per_hour = (master_df['timestamp'].dt.hour.value_counts().sort_index())/master_df.shape[0]\n",
    "# Point plot for hourly rides\n",
    "sns.pointplot(x=tweets_per_hour.index, y=tweets_per_hour.values, color = base_color);\n",
    "plt.title('Tweets per hour (%)', fontsize=20, y=1.015)\n",
    "plt.xlabel('Hour', labelpad=10, fontsize=16)\n",
    "plt.ylabel('Tweets(%)', labelpad=10, fontsize=16)\n",
    "# Save to a file\n",
    "plt.savefig('./img/tweets_per_hour.png')\n",
    "# Show the plot\n",
    "plt.show();"
   ]
  },
  {
   "attachments": {},
   "cell_type": "markdown",
   "id": "fcb41cc1-1fc5-4752-bad5-a8639528d600",
   "metadata": {},
   "source": [
    "It seems the answer is yes. The account is especially active after midnight and in the afternoon, and dormant in the morning.\n",
    "\n",
    "#### Tweets through the week\n",
    "\n",
    "**Does the weekday matter for the account activity?**"
   ]
  },
  {
   "cell_type": "code",
   "execution_count": 63,
   "id": "0b81c732-9b93-4daf-9fd2-3eab50af3307",
   "metadata": {},
   "outputs": [
    {
     "data": {
      "image/png": "[encoded data removed]",
      "text/plain": [
       "<Figure size 800x500 with 1 Axes>"
      ]
     },
     "metadata": {},
     "output_type": "display_data"
    }
   ],
   "source": [
    "# Tweets number per weekday\n",
    "rcParams['figure.figsize'] = 8,5\n",
    "base_color = sns.color_palette()[0]\n",
    "weekday = ['Monday', 'Tuesday', 'Wednesday', 'Thursday', 'Friday', 'Saturday', 'Sunday']\n",
    "sns.countplot(data=master_df, x=master_df['timestamp'].dt.day_name(), order=weekday, color=base_color)\n",
    "plt.title('Tweets per weekday', fontsize=16, y=1.015)\n",
    "plt.xlabel('Weekday', labelpad=10, fontsize=14)\n",
    "plt.ylabel('Tweets count', labelpad=10, fontsize=14)\n",
    "# Save to a file\n",
    "plt.savefig('./img/tweets_per_weekday.png')\n",
    "# Show the plot\n",
    "plt.show();"
   ]
  },
  {
   "attachments": {},
   "cell_type": "markdown",
   "id": "b729ffd5-be35-41fc-9d9b-3fe5ce7ec405",
   "metadata": {},
   "source": [
    "It seems that the account is less active on weekends, and tweets more on Mondays.\n",
    "\n",
    "### 6.2: Effect of rating on likes and retweets\n",
    "\n",
    "**Does the rating matter? Does it affect likes and retweets?**"
   ]
  },
  {
   "cell_type": "code",
   "execution_count": 64,
   "id": "26be4993-2b5d-4ae8-aa9c-7b3e6c8a7bee",
   "metadata": {},
   "outputs": [
    {
     "data": {
      "image/png": "[encoded data removed]",
      "text/plain": [
       "<Figure size 2600x800 with 2 Axes>"
      ]
     },
     "metadata": {},
     "output_type": "display_data"
    }
   ],
   "source": [
    "plt.figure(figsize = [26, 8])\n",
    "\n",
    "# Scatter plot for rating_numerator vs like_count\n",
    "plt.subplot(1, 2, 1)\n",
    "plt.scatter(data = master_df, x ='rating_numerator' , y = 'like_count', alpha = 1/20)\n",
    "plt.xlim((0,20))\n",
    "plt.ylim((0,40000))\n",
    "plt.title('Scatter plot for rating_numerator vs like_count', fontsize=22, y=1.025)\n",
    "plt.xlabel('Rating numerator', labelpad=10, fontsize=18)\n",
    "plt.ylabel('Likes', labelpad=10, fontsize=18)\n",
    "\n",
    "# Scatter plot for rating_numerator vs retweet_count\n",
    "plt.subplot(1, 2, 2)\n",
    "plt.scatter(data = master_df, x ='rating_numerator' , y = 'retweet_count', alpha = 1/20)\n",
    "plt.xlim((0,20))\n",
    "plt.ylim((0,40000))\n",
    "plt.title('Scatter plot for rating_numerator vs retweet_count', fontsize=22, y=1.025)\n",
    "plt.xlabel('Rating numerator', labelpad=10, fontsize=18)\n",
    "plt.ylabel('Retweets', labelpad=10, fontsize=18)\n",
    "\n",
    "# Save to a file\n",
    "plt.savefig('./img/rating_vs_likes_retweets.png')\n",
    "# Show the plot\n",
    "plt.show();"
   ]
  },
  {
   "attachments": {},
   "cell_type": "markdown",
   "id": "0a1c80a2-6132-4f73-b233-41fc71ef8c5d",
   "metadata": {},
   "source": [
    "The answer is yes. There is a clear positive correlation between the rating numerator and number of likes and retweets.\n",
    "\n",
    "### 6.3: Popular dog breeds\n",
    "\n",
    "Finally, are there **popular dog breeds** in these funny tweets?"
   ]
  },
  {
   "cell_type": "code",
   "execution_count": 65,
   "id": "41fa8f5f-5e09-4d5d-9da4-e66f30184b58",
   "metadata": {},
   "outputs": [
    {
     "data": {
      "image/png": "[encoded data removed]",
      "text/plain": [
       "<Figure size 1000x600 with 1 Axes>"
      ]
     },
     "metadata": {},
     "output_type": "display_data"
    }
   ],
   "source": [
    "# 10 most popular dog breeds\n",
    "popular_breeds = master_df.p1.value_counts()[:10]\n",
    "rcParams['figure.figsize'] = 10,6\n",
    "base_color = sns.color_palette()[0]\n",
    "sns.barplot(x=popular_breeds, y=popular_breeds.index, color=base_color)\n",
    "plt.title('10 Most popular dog breeds', fontsize=16, y=1.025)\n",
    "plt.xlabel('Count', labelpad=6, fontsize=14)\n",
    "plt.ylabel('Breed', labelpad=6, fontsize=14)\n",
    "# Use xticks to rotate the category labels (not axes) counter-clockwise\n",
    "plt.xticks(rotation=90)\n",
    "# Save to a file\n",
    "plt.savefig('./img/popular_breeds.png')\n",
    "# Show the plot\n",
    "plt.show();"
   ]
  },
  {
   "cell_type": "markdown",
   "id": "47368ebb-676a-4fdb-9161-4d3a581c82c6",
   "metadata": {},
   "source": [
    "It seems that the golden retriever is especially popular among dog lovers."
   ]
  },
  {
   "attachments": {},
   "cell_type": "markdown",
   "id": "ec371255-2d8a-4929-a62f-4dc2f256656e",
   "metadata": {
    "id": "0ezWXXZVj-TP"
   },
   "source": [
    "### **6.4:** Reflection\n",
    "\n",
    "This report doesn't suggest any causality between variables and is limited to the scope of correlation. The dataset covers an outdated and limited time frame that is suitable only for educational purposes and should be updated for any practical application."
   ]
  }
 ],
 "metadata": {
  "colab": {
   "provenance": []
  },
  "editor": "DataCamp Workspace",
  "kernelspec": {
   "display_name": "Python 3 (ipykernel)",
   "language": "python",
   "name": "python3"
  },
  "language_info": {
   "codemirror_mode": {
    "name": "ipython",
    "version": 3
   },
   "file_extension": ".py",
   "mimetype": "text/x-python",
   "name": "python",
   "nbconvert_exporter": "python",
   "pygments_lexer": "ipython3",
   "version": "3.10.4"
  }
 },
 "nbformat": 4,
 "nbformat_minor": 5
}
